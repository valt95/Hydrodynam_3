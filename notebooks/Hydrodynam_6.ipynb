{
 "cells": [
  {
   "cell_type": "code",
   "execution_count": 29,
   "outputs": [],
   "source": [
    "# !python -m numpy.f2py condint.f -m condint -h condint.pyf\n",
    "# !python -m numpy.f2py -c condint.pyf condint.f\n",
    "#\n",
    "# !python -m numpy.f2py -c condint.f -m condint\n",
    "# import numpy as np\n",
    "# import condint\n",
    "# help(condint)\n",
    "# aaa1 = 0\n",
    "# aaa2 = 0\n",
    "# aaa3 = 0\n",
    "# condint.coninter(1,5,5,aaa1,aaa2,aaa3)"
   ],
   "metadata": {
    "collapsed": false,
    "pycharm": {
     "name": "#%%\n"
    }
   }
  },
  {
   "cell_type": "code",
   "execution_count": 30,
   "outputs": [],
   "source": [
    "# Интерполяционная функция для коэффициента теплопроводности\n",
    "import numpy as np\n",
    "\n",
    "heat_conductivity_table_array = np.array([[0.7222,0.6304,0.6013,0.5921,0.5892,0.5883,0.5880,0.5879,0.5879],\n",
    "              [1.951,1.071,0.791,0.7021,0.6739,0.6650,0.6622,0.6613,0.6612],\n",
    "              [7.848,3.080,1.485,0.9724,0.8095,0.7578,0.7415,0.7363,0.7356],\n",
    "              [23.07,9.68,3.79,1.77,1.114,0.9050,0.8387,0.8178,0.8149],\n",
    "              [24.72,22.12,9.58,3.83,1.83,1.19,0.9829,0.9174,0.9085],\n",
    "              [7.33,23.93,19.07,8.14,3.38,1.74,1.215,1.04,1.02,],\n",
    "              [2.15, 9.99, 23.51,14.87,6.20, 2.75, 1.59, 1.22,1.17,],\n",
    "              [1.28, 3.34, 14.80,20.75,10.49,4.41, 2.20, 1.47, 1.37,],\n",
    "              [1.16, 1.71, 6.25, 19.43,15.49,6.87, 3.11, 1.82, 1.64,],\n",
    "              [1.18, 1.34, 2.89, 12.12,18.78,10.02,4.396,2.31, 2.01,],\n",
    "              [1.23, 1.29, 1.83, 6.26, 17.72,13.40,6.06, 2.95, 2.50,],\n",
    "              [1.291,1.312,1.523,3.45, 13.09,16.00,8.077,3.76, 3.11,],\n",
    "              [1.34, 1.35, 1.44, 2.30, 8.32, 16.68,10.26,4.74, 3.85,],\n",
    "              [1.40, 1.40, 1.44, 1.84, 5.18, 15.05,12.31,5.88, 4.72,],\n",
    "              [1.45, 1.45, 1.47, 1.67, 3.477,11.99,13.87,7.14, 5.71,],\n",
    "              [1.51, 1.51, 1.52, 1.62, 2.61, 8.84, 14.56,8.46, 6.78,],\n",
    "              [1.56, 1.56, 1.57, 1.63, 2.18, 6.38, 14.22,9.74, 7.90,],\n",
    "              [1.62, 1.62, 1.62, 1.65, 1.98, 4.71, 12.97,10.89,8.99,],\n",
    "              [1.67, 1.67, 1.67, 1.69, 1.89, 3.66, 11.19,11.80,10.01,],\n",
    "              [1.73, 1.73, 1.73, 1.74, 1.86, 3.02, 9.29, 12.38,10.87,],\n",
    "              [1.78, 1.78, 1.78, 1.79, 1.87, 2.64, 7.59, 12.57,11.52,],\n",
    "              [1.84, 1.84, 1.84, 1.84, 1.90, 2.42, 6.21, 12.37,11.90,],\n",
    "              [1.89, 1.89, 1.89, 1.90, 1.93, 2.30, 5.15, 11.84,12.01,],\n",
    "              [1.95, 1.95, 1.95, 1.960,1.986,2.241,4.384,11.05,11.83]])\n",
    "\n",
    "temp_string = np.array([1400,1600,1800,2000,2200,2400,2600,2800,3000,3200,3400,3600,3800,4000,4200,4400,4600,4800,5000,5200,5400,5600,5800,6000])\n",
    "pressure_string = np.array([10**(-5),10**(-4),10**(-3),10**(-2),0.1,1,10,100,200])\n",
    "\n",
    "from scipy import interpolate\n",
    "heat_conductivity_interpol = interpolate.RectBivariateSpline(temp_string,pressure_string,heat_conductivity_table_array,kx=1,ky=1,s=0)\n"
   ],
   "metadata": {
    "collapsed": false,
    "pycharm": {
     "name": "#%%\n"
    }
   }
  },
  {
   "cell_type": "code",
   "execution_count": 31,
   "outputs": [
    {
     "data": {
      "text/plain": "14.22"
     },
     "execution_count": 31,
     "metadata": {},
     "output_type": "execute_result"
    }
   ],
   "source": [
    "heat_conductivity_interpol(4600,10)[0][0] #теплопроводность водорода в M_unit*м/(с**3*К)"
   ],
   "metadata": {
    "collapsed": false,
    "pycharm": {
     "name": "#%%\n"
    }
   }
  },
  {
   "cell_type": "markdown",
   "source": [
    "Оценка степени ионизации из температуры\n",
    "$X_p + X_p^2 n_B (\\frac{2\\pi}{m_e T})^{3/2}e^{\\frac{\\delta H}{T}} = 1$\n",
    "\n",
    "$X_p = \\frac{-1 \\pm \\sqrt{ 1 + 4(n_B (\\frac{2\\pi}{m_e T})^{3/2}e^{\\frac{\\delta H}{T}})}}{2 n_B (\\frac{2\\pi}{m_e T})^{3/2}e^{\\frac{\\delta H}{T}}}$\n",
    "\n",
    ",где $\\delta H = 13.6 эВ$, а $X_p = \\frac{n_p}{n_B}$. Берем корень только с +, так как с - нефизичный.\n"
   ],
   "metadata": {
    "collapsed": false,
    "pycharm": {
     "name": "#%% md\n"
    }
   }
  },
  {
   "cell_type": "markdown",
   "source": [
    "Нагрев и охлаждение\n",
    "Нагрев и охлаждение от ионизации и комптоновского рассеяния за счет аккреционного излучения уже учтены за счет членов связанных с излучением в уравнениях Эйлера.\n",
    "Перераспределение температуры за счет теплопередачи в газе также учтено.\n",
    "Не учтенным остается охлаждение газа за счет обратного комптоновского рассеяния с фотонами CMB.\n",
    "\n",
    "Из статьи Кара:\n",
    "$\\Gamma_{rad} \\approx \\frac{n_H x k T \\rho_r \\sigma_T}{m_e c} \\approx 10^{-31} x n_H z^{4} T_{4}$ $эрг$  $см^{-3}$ $с^{-1}$"
   ],
   "metadata": {
    "collapsed": false,
    "pycharm": {
     "name": "#%% md\n"
    }
   }
  },
  {
   "cell_type": "code",
   "execution_count": 32,
   "outputs": [],
   "source": [
    "def inv_compton_cool_rate(n_H,x,T,z,M_unit):\n",
    "    return 1e-31 * x * n_H * z**4 * T/(1e4) * (1e-6 * 1e-7/M_unit) # в M_unit м**(-1) с**(-3)"
   ],
   "metadata": {
    "collapsed": false,
    "pycharm": {
     "name": "#%%\n"
    }
   }
  },
  {
   "cell_type": "code",
   "execution_count": 33,
   "outputs": [],
   "source": [
    "def ioniz_estim(n_H, T):\n",
    "    m_e = 0.5e6\n",
    "    delta_H = 13.6\n",
    "    T_new = T/11604 # температура в эВ\n",
    "    if np.any((T_new<=0.02)):\n",
    "        for i in range(T_new.shape[0]):\n",
    "            if T_new[i]<=0.02:\n",
    "                T_new[i]=0.02\n",
    "    n_H_new = n_H*(1.2e-6)**3 # концентрация водорода в эВ^-3\n",
    "    a = n_H_new*np.exp(delta_H/T_new)*(2*np.pi/(m_e*T_new))**(3/2)\n",
    "    x = (-1 + np.sqrt(1+4*a))/(2*a)\n",
    "    return x"
   ],
   "metadata": {
    "collapsed": false,
    "pycharm": {
     "name": "#%%\n"
    }
   }
  },
  {
   "cell_type": "code",
   "execution_count": 34,
   "outputs": [],
   "source": [
    "# Параметры задачи\n",
    "z = 150  # Красное смещение\n",
    "M_pbh = 1e9 # масса черной дыры в солнечных массах\n",
    "t_end_years = 1e9 # Конечное время симуляции в годах\n",
    "draw_step = 10000 # Шаг для отрисовки"
   ],
   "metadata": {
    "collapsed": false,
    "pycharm": {
     "name": "#%%\n"
    }
   }
  },
  {
   "cell_type": "code",
   "execution_count": 35,
   "outputs": [],
   "source": [
    "z_0 = z\n",
    "z_new = z\n",
    "kkk = 1.247e-7\n",
    "a_0 = 1/(z+1)"
   ],
   "metadata": {
    "collapsed": false,
    "pycharm": {
     "name": "#%%\n"
    }
   }
  },
  {
   "cell_type": "code",
   "execution_count": 36,
   "outputs": [],
   "source": [
    "# Множители для отладки\n",
    "PP = 1  #множитель перед членом с давлением\n",
    "GG = 1    #гравитационная постоянная (приравнять нулю, чтобы посмотреть только с давлением)\n",
    "RRRho = 1  #множитель увеличивающий начальную плотность в центральной граничной точке\n",
    "TT = 1  # Множитель перед температурой в центре"
   ],
   "metadata": {
    "collapsed": false,
    "pycharm": {
     "name": "#%%\n"
    }
   }
  },
  {
   "cell_type": "code",
   "execution_count": 37,
   "outputs": [],
   "source": [
    "# Различные физические константы\n",
    "k = 1.38e-23 # Постоянная Больцмана Дж/К\n",
    "m_p = 1.67e-27 # Масса протона кг\n",
    "c = 3e8 # Скорость света\n",
    "pk_to_meter = 3e16 # Переводной коэффициент пк->м\n",
    "G = GG * 6.67e-11 # гравитационная постоянная Н*м^2/кг^2\n",
    "M_sun = 2e30 # масса солнца в кг\n",
    "gamma = 5/3 # коэффициент адиабаты\n",
    "t_end_seconds = 3.154e7 * t_end_years\n",
    "\n",
    "\n",
    "Rho_mean = 8.5e-27 * 0.04 * (1+z)**3 # Средняя плотность Вселенной"
   ],
   "metadata": {
    "collapsed": false,
    "pycharm": {
     "name": "#%%\n"
    }
   }
  },
  {
   "cell_type": "code",
   "execution_count": 38,
   "outputs": [],
   "source": [
    "import matplotlib.pyplot as plt\n",
    "# Импорт функций для расчетов темной материи\n",
    "from md import *\n",
    "# Импорт функций для расчетов излучения\n",
    "from light_func import *\n",
    "%matplotlib inline\n",
    "import numpy as np\n",
    "plt.style.use(['seaborn-v0_8-notebook'])\n",
    "plt.rcParams.update({\"figure.facecolor\": (0,0,0,0),\n",
    "                     \"figure.dpi\": 90,\n",
    "                     \"animation.html\": \"jshtml\",\n",
    "                     \"animation.embed_limit\": 100})\n",
    "plt.rcParams['font.size'] = 20"
   ],
   "metadata": {
    "collapsed": false,
    "pycharm": {
     "name": "#%%\n"
    }
   }
  },
  {
   "cell_type": "code",
   "execution_count": 39,
   "outputs": [],
   "source": [
    "# Блок констант далее требуется для условия Куранта-Фридрихсона-Леви (КФЛ)\n",
    "mu = 1 # Средний молекулярный вес, это значение для водорода, если будем что-то добавлять то будет что-то другое\n",
    "a1 = 1/119  # первый коэффициент в формуле для температуры\n",
    "a2 = 1/115  # второй коэффициент в формуле для температуры\n",
    "T = 2.7 * (1+z) * (1 + a1**(-1)*(1+z)**(-1)/(1+a2**(3/2)*(1+z)**(3/2))) ** (-1)\n",
    "a = np.sqrt(k*T / (mu*m_p))   #скорость звука в м/c\n",
    "\n",
    "# Радиус остановки DM\n",
    "r_s = 6.7 * 10**22 * (M_pbh/10**9)**(1/3) * ((1+z)/18)**(-4/3) * 3.24 * 10**(-19)\n",
    "r_virial = r_s/4"
   ],
   "metadata": {
    "collapsed": false,
    "pycharm": {
     "name": "#%%\n"
    }
   }
  },
  {
   "cell_type": "code",
   "execution_count": 40,
   "outputs": [],
   "source": [
    "# Диапазон сетки\n",
    "r_min = 0.1*r_virial#1 # внутренняя граница сетки в парсеках\n",
    "r_max = 10*r_s#100 # внешняя граница сетки в парсеках\n",
    "\n",
    "# Логарифмическая сетка\n",
    "r_log_min = np.log(r_min)\n",
    "r_log_max = np.log(r_max)\n",
    "length_r = 30\n",
    "r_log = np.linspace(r_log_min, r_log_max, length_r)\n",
    "r_phys = np.exp(1) ** r_log\n",
    "log_step = r_log[1]-r_log[0]"
   ],
   "metadata": {
    "collapsed": false,
    "pycharm": {
     "name": "#%%\n"
    }
   }
  },
  {
   "cell_type": "code",
   "execution_count": 41,
   "outputs": [],
   "source": [
    "\n",
    "# Задание первичного (пробного) условия КФЛ\n",
    "# Далее условие будет пересчитываться\n",
    "# Вид условия: С = ((a + |u_x|) * dt)/dx < 0.5\n",
    "# Здесь a-эффективная скорость звука, u_x-скорость газа, dt и dx шаги по времени и пространству\n",
    "# Константа в условии КФЛ\n",
    "C = 0.1\n",
    "\n",
    "# Для логарифмической сетки\n",
    "dt = C * (r_phys[1]-r_phys[0]) * pk_to_meter / a"
   ],
   "metadata": {
    "collapsed": false,
    "pycharm": {
     "name": "#%%\n"
    }
   }
  },
  {
   "cell_type": "code",
   "execution_count": 42,
   "outputs": [],
   "source": [
    "# Инициализация массивов для хранения различных переменных\n",
    "U = np.zeros((2, length_r)) # скорость газа U_0 = 0\n",
    "Rho = np.zeros((2, length_r)) # плотность газа Rho\n",
    "P = np.zeros((2, length_r)) # давление газа P\n",
    "T = np.zeros(length_r) # температура газа T\n",
    "Eps = np.zeros(length_r) # внутренняя энергия газа U\n",
    "E = np.zeros((2, length_r)) # Полная энергия\n",
    "n_H = np.zeros(length_r) # количественная плотность водорода\n",
    "Phi = np.zeros(length_r)  # гравитационный потенциал\n",
    "S_dual = np.zeros(length_r)\n",
    "V_dual = np.zeros(length_r)\n",
    "S = np.zeros(length_r)\n",
    "V_dual = np.zeros(length_r + 1)\n",
    "V = np.zeros(length_r + 1)\n",
    "S_dual = np.zeros(length_r)\n",
    "du_dr = np.zeros(length_r)\n",
    "U_half = np.zeros(length_r)"
   ],
   "metadata": {
    "collapsed": false,
    "pycharm": {
     "name": "#%%\n"
    }
   }
  },
  {
   "cell_type": "code",
   "execution_count": 43,
   "outputs": [],
   "source": [
    "# Блок далее нужен для синхронизации размеров векторов, чтобы далее не возникало ошибок связанных с их несовпадением\n",
    "r_log_temp_2 = np.append(r_log[0] - log_step, r_log)\n",
    "r_log_temp_2 = np.append(r_log_temp_2, r_log[-1] + log_step)\n",
    "r_temp_2 = np.exp(1) ** r_log_temp_2\n",
    "Phi_temp = (-G*mdmt(r_temp_2[0]/r_s)/(r_temp_2[0] * pk_to_meter) * (Rho_mean * 4*np.pi/3 * (r_s*pk_to_meter)**3)\n",
    "              -G*M_pbh*M_sun/(r_temp_2[0] * pk_to_meter))\n",
    "Phi_temp_2 = (-G*mdmt(r_temp_2[-1]/r_s)/(r_temp_2[-1] * pk_to_meter) * (Rho_mean * 4*np.pi/3 * (r_s*pk_to_meter)**3)\n",
    "              -G*M_pbh*M_sun/(r_temp_2[-1] * pk_to_meter))\n",
    "r_log_temp = np.append(r_log, r_log[-1] + log_step)\n",
    "r_temp = np.exp(1) ** r_log_temp\n",
    "r_log_temp_2 = r_log_temp - 0.5*log_step\n",
    "r_temp_3 = np.exp(1) ** r_log_temp_2"
   ],
   "metadata": {
    "collapsed": false,
    "pycharm": {
     "name": "#%%\n"
    }
   }
  },
  {
   "cell_type": "code",
   "execution_count": 44,
   "outputs": [],
   "source": [
    "# Задание обьемов и площадей\n",
    "S = 4 * np.pi * (r_temp_3[1:]+r_temp_3[:-1])**2 / 4 * pk_to_meter**2\n",
    "V = 4/3 * np.pi * (r_temp_3[1:]**3 - r_temp_3[:-1]**3) * pk_to_meter**3\n",
    "S_dual = 4 * np.pi * (r_temp[1:] + r_temp[:-1])**2 / 4 * pk_to_meter**2\n",
    "V_dual = 4/3 * np.pi * (r_temp_3[1:]**3 - r_temp_3[:-1]**3) * pk_to_meter**3"
   ],
   "metadata": {
    "collapsed": false,
    "pycharm": {
     "name": "#%%\n"
    }
   }
  },
  {
   "cell_type": "code",
   "execution_count": 45,
   "outputs": [],
   "source": [
    "# Начальные условия\n",
    "for j in range(length_r):\n",
    "    # Гравитационный потенциал\n",
    "    Phi[j] = (-G*mdmt(r_phys[j]/r_s)/(r_phys[j] * pk_to_meter) * (Rho_mean * 4*np.pi/3 * (r_s*pk_to_meter)**3)\n",
    "              -G*M_pbh*M_sun/(r_phys[j] * pk_to_meter)) # в м**2/с**2\n",
    "\n",
    "    # Температура\n",
    "    T[j] = 2.7 * (1+z) * (1 + a1**(-1)*(1+z)**(-1)/(1+a2**(3/2)*(1+z)**(3/2)))**(-1)  # в кельвинах\n",
    "\n",
    "    # Плотность барионов\n",
    "    # omega_b = 0.049\n",
    "    # omega_m = 0.308\n",
    "    # Rho[0, j] = omega_b * rrb(r_phys[j]/r_s)/omega_m    #пробная плотность в Rho_mean\n",
    "    Rho[0, j] = rrb(r_phys[j]/r_s)\n",
    "    # Так как переопределили Rho и оставили метры то нужно переопределить единицы массы\n",
    "    M_unit = Rho_mean   # Коэффициент перевода единиц массы в кг\n",
    "\n",
    "    # Концентрация водорода\n",
    "    n_H[j] = (Rho[0, j])/(m_p/M_unit)\n",
    "\n",
    "    # массовая плотность внутренней энергия\n",
    "    Eps[j] = (n_H[j] * 3/2 * k/M_unit * T[j])/(Rho[0, j])  # В Дж/M_unit\n",
    "\n",
    "    # Скорости\n",
    "    U[0, j] = 0   # В м/c\n",
    "\n",
    "    # Плотность полной энергии\n",
    "    E[0, j] = (Rho[0, j]) * (U[0, j]**2/2 + Eps[j]) # В M_unit/м*с**2\n",
    "\n",
    "    # Уравнение состояния\n",
    "    P[0, j] = (gamma - 1) * (Rho[0, j]) * Eps[j]   # Давление в M_unit/м*с**2"
   ],
   "metadata": {
    "collapsed": false,
    "pycharm": {
     "name": "#%%\n"
    }
   }
  },
  {
   "cell_type": "code",
   "execution_count": 46,
   "outputs": [],
   "source": [
    "# Изменение размеров векторов и применение граничного условия к потенциалам\n",
    "Phi = np.append(Phi_temp, Phi)\n",
    "Phi = np.append(Phi, Phi_temp_2)\n",
    "P[0, -1] = P[0, -2]\n",
    "U[0, -1] = U[0, -2]\n",
    "\n",
    "# Искуственное увеличение плотности и температуры в центре (работает если был изменен соответствующий отладочный параметр)\n",
    "Rho[0,0] = Rho[0,0]*RRRho\n",
    "T[0] = T[0]*TT"
   ],
   "metadata": {
    "collapsed": false,
    "pycharm": {
     "name": "#%%\n"
    }
   }
  },
  {
   "cell_type": "code",
   "execution_count": 47,
   "outputs": [],
   "source": [
    "# Инициализация различных переменных для расчета\n",
    "i = 0 # Счетчик шагов по времени\n",
    "sim_time = 0 # Общее время симуляции\n",
    "dt_minimizer = 0.0009 # Множитель который будет использован при пересчете шагов по времени\n",
    "indicator_2 = False # Индикатор нужный для пересчета шага по времени\n",
    "Rho_dump_left = np.zeros(2) # Переменная для хранения плотности которая уходит к ЧД за пределы сетки\n",
    "LL = np.zeros(length_r)  # Переменная для хранения разницы членов гравитации и давления\n",
    "\n",
    "# Массивы для отрисовки\n",
    "U_draw = np.zeros((2,Rho.shape[1]))\n",
    "Rho_draw = np.zeros((2,Rho.shape[1]))\n",
    "E_draw = np.zeros((2,Rho.shape[1]))\n",
    "U_draw[1,:] = U[0, :]\n",
    "Rho_draw[1,:] = Rho[0, :]\n",
    "E_draw[1,:] = E[0, :]\n",
    "draw_time = 0"
   ],
   "metadata": {
    "collapsed": false,
    "pycharm": {
     "name": "#%%\n"
    }
   }
  },
  {
   "cell_type": "code",
   "execution_count": 48,
   "outputs": [],
   "source": [
    "# Выбор начального распределения степени ионизации и процедуры расчета излучения\n",
    "x = np.exp(-5*r_phys/r_s) # Начальное распределение степени ионизации\n",
    "x_draw = x  # Массив для отрисовки степени ионизации\n",
    "E_photon = 5000 # Энергия фотонов в эВ\n",
    "light_procedure_selector = 1   # 0 - для простой оценки, 1 - для минимального расчета потерь излучения из уравнения переноса"
   ],
   "metadata": {
    "collapsed": false,
    "pycharm": {
     "name": "#%%\n"
    }
   }
  },
  {
   "cell_type": "code",
   "execution_count": 59,
   "outputs": [
    {
     "name": "stdout",
     "output_type": "stream",
     "text": [
      "Номер шага  160000\n",
      "Прошло  62486206.47552095 лет\n",
      "Текущий z  37.08269429684112\n",
      "Номер шага  170000\n",
      "Прошло  66391594.380259305 лет\n",
      "Текущий z  35.94327745089395\n",
      "Номер шага  180000\n",
      "Прошло  70296982.28499766 лет\n",
      "Текущий z  34.890319619426805\n",
      "Номер шага  190000\n",
      "Прошло  74202370.189736 лет\n",
      "Текущий z  33.91348414140634\n",
      "Номер шага  200000\n",
      "Прошло  78107758.09447435 лет\n",
      "Текущий z  33.00409042205981\n",
      "Номер шага  210000\n",
      "Прошло  82013145.9992127 лет\n",
      "Текущий z  32.15478630601968\n",
      "Номер шага  220000\n",
      "Прошло  85918533.90395105 лет\n",
      "Текущий z  31.359296654852884\n",
      "Номер шага  230000\n",
      "Прошло  89823921.8086894 лет\n",
      "Текущий z  30.612227955820014\n",
      "Номер шага  240000\n",
      "Прошло  93729309.71342775 лет\n",
      "Текущий z  29.908914728864325\n",
      "Номер шага  250000\n",
      "Прошло  97634697.6181661 лет\n",
      "Текущий z  29.245297526125636\n",
      "Номер шага  260000\n",
      "Прошло  101540085.52290444 лет\n",
      "Текущий z  28.617825097660123\n",
      "Номер шага  270000\n",
      "Прошло  105445473.42764279 лет\n",
      "Текущий z  28.023375246482882\n",
      "Номер шага  280000\n",
      "Прошло  109350861.33238114 лет\n",
      "Текущий z  27.45919028373432\n",
      "Номер шага  290000\n",
      "Прошло  113256249.2371195 лет\n",
      "Текущий z  26.922823996074452\n",
      "Номер шага  300000\n",
      "Прошло  117161637.14185785 лет\n",
      "Текущий z  26.412097769004408\n"
     ]
    },
    {
     "ename": "KeyboardInterrupt",
     "evalue": "",
     "output_type": "error",
     "traceback": [
      "\u001B[1;31m---------------------------------------------------------------------------\u001B[0m",
      "\u001B[1;31mKeyboardInterrupt\u001B[0m                         Traceback (most recent call last)",
      "Cell \u001B[1;32mIn[59], line 30\u001B[0m\n\u001B[0;32m     25\u001B[0m     H, Pressure_euler_coupling, Energy_euler_coupling \u001B[38;5;241m=\u001B[39m easy_eddington_light(x, r_phys, M_pbh)\n\u001B[0;32m     26\u001B[0m     LL[:\u001B[38;5;241m-\u001B[39m\u001B[38;5;241m1\u001B[39m] \u001B[38;5;241m=\u001B[39m (\u001B[38;5;241m-\u001B[39m PP \u001B[38;5;241m*\u001B[39m (\u001B[38;5;241m0.5\u001B[39m\u001B[38;5;241m*\u001B[39mdt \u001B[38;5;241m*\u001B[39m dP_dx\u001B[38;5;241m/\u001B[39m(r_phys[:\u001B[38;5;241m-\u001B[39m\u001B[38;5;241m1\u001B[39m] \u001B[38;5;241m*\u001B[39m pk_to_meter)) \u001B[38;5;241m/\u001B[39m (Rho[\u001B[38;5;241m0\u001B[39m,:\u001B[38;5;241m-\u001B[39m\u001B[38;5;241m1\u001B[39m])\n\u001B[0;32m     27\u001B[0m                             \u001B[38;5;241m-\u001B[39m (\u001B[38;5;241m0.5\u001B[39m\u001B[38;5;241m*\u001B[39mdt \u001B[38;5;241m*\u001B[39m np\u001B[38;5;241m.\u001B[39mwhere(dPhi_dx[\u001B[38;5;241m1\u001B[39m:\u001B[38;5;241m-\u001B[39m\u001B[38;5;241m1\u001B[39m]\u001B[38;5;241m>\u001B[39m\u001B[38;5;241m0\u001B[39m,\u001B[38;5;241m1\u001B[39m,\u001B[38;5;241m0\u001B[39m) \u001B[38;5;241m*\u001B[39m dPhi_dx[\u001B[38;5;241m1\u001B[39m:\u001B[38;5;241m-\u001B[39m\u001B[38;5;241m1\u001B[39m]\u001B[38;5;241m/\u001B[39m(r_phys[:\u001B[38;5;241m-\u001B[39m\u001B[38;5;241m1\u001B[39m] \u001B[38;5;241m*\u001B[39m pk_to_meter))\n\u001B[0;32m     28\u001B[0m                             \u001B[38;5;241m-\u001B[39m \u001B[38;5;241m0.5\u001B[39m\u001B[38;5;241m*\u001B[39mdt\u001B[38;5;241m*\u001B[39mPressure_euler_coupling\u001B[38;5;241m/\u001B[39mRho[\u001B[38;5;241m0\u001B[39m,:\u001B[38;5;241m-\u001B[39m\u001B[38;5;241m1\u001B[39m])\n\u001B[1;32m---> 30\u001B[0m \u001B[43mU_half\u001B[49m\u001B[43m[\u001B[49m\u001B[43m:\u001B[49m\u001B[38;5;241;43m-\u001B[39;49m\u001B[38;5;241;43m1\u001B[39;49m\u001B[43m]\u001B[49m \u001B[38;5;241m=\u001B[39m U[\u001B[38;5;241m0\u001B[39m,:\u001B[38;5;241m-\u001B[39m\u001B[38;5;241m1\u001B[39m] \u001B[38;5;241m+\u001B[39m LL[:\u001B[38;5;241m-\u001B[39m\u001B[38;5;241m1\u001B[39m]\n\u001B[0;32m     31\u001B[0m U_half[\u001B[38;5;241m-\u001B[39m\u001B[38;5;241m1\u001B[39m] \u001B[38;5;241m=\u001B[39m U_half[\u001B[38;5;241m-\u001B[39m\u001B[38;5;241m2\u001B[39m]\n\u001B[0;32m     33\u001B[0m \u001B[38;5;66;03m# Вычисление производной скорости по времени\u001B[39;00m\n",
      "\u001B[1;31mKeyboardInterrupt\u001B[0m: "
     ]
    }
   ],
   "source": [
    "# Расчет решения уравнений Эйлера с излучением\n",
    "heat_conductivity_interpol = 10/M_unit\n",
    "dT_dx = np.zeros(length_r)\n",
    "ddT_dx = np.zeros(length_r)\n",
    "while (sim_time < t_end_seconds):\n",
    "    if (i == 0):\n",
    "        i = 1\n",
    "\n",
    "    # Лагранжев шаг\n",
    "\n",
    "    # Вычисление скорости на полшага вперед по времени\n",
    "    dP_dx = (P[0,1:] - P[0,:-1]) / log_step\n",
    "    dPhi_dx = (Phi[1:] - Phi[:-1]) / log_step\n",
    "    dT_dx[:-1] = (T[1:]-T[:-1])/ log_step\n",
    "    dT_dx[-1] = dT_dx[-2]\n",
    "    ddT_dx[:-1] = (dT_dx[1:] - dT_dx[:-1])/ log_step\n",
    "    ddT_dx[-1] = ddT_dx[-2]\n",
    "\n",
    "    if light_procedure_selector == 1:\n",
    "        H, Pressure_euler_coupling, Energy_euler_coupling = eddington_light(n_H, x, E_photon, M_pbh, r_phys, M_unit)\n",
    "        LL[:-1] = (- PP * (0.5*dt * dP_dx/(r_phys[:-1] * pk_to_meter)) / (Rho[0,:-1])\n",
    "                                - (0.5*dt * np.where(dPhi_dx[1:-1]>0,1,0) * dPhi_dx[1:-1]/(r_phys[:-1] * pk_to_meter))\n",
    "                                - 0.5*dt*Pressure_euler_coupling/(Rho[0,:-1]))\n",
    "    elif light_procedure_selector == 0:\n",
    "        H, Pressure_euler_coupling, Energy_euler_coupling = easy_eddington_light(x, r_phys, M_pbh)\n",
    "        LL[:-1] = (- PP * (0.5*dt * dP_dx/(r_phys[:-1] * pk_to_meter)) / (Rho[0,:-1])\n",
    "                                - (0.5*dt * np.where(dPhi_dx[1:-1]>0,1,0) * dPhi_dx[1:-1]/(r_phys[:-1] * pk_to_meter))\n",
    "                                - 0.5*dt*Pressure_euler_coupling/Rho[0,:-1])\n",
    "\n",
    "    U_half[:-1] = U[0,:-1] + LL[:-1]\n",
    "    U_half[-1] = U_half[-2]\n",
    "\n",
    "    # Вычисление производной скорости по времени\n",
    "    du_dx = (U_half[1:] - U_half[:-1]) / log_step\n",
    "    du_dr[:-1] = du_dx / (r_phys[:-1] * pk_to_meter)\n",
    "    du_dr[-1] = du_dr[-2]\n",
    "\n",
    "    # Промежуточная полная энергия\n",
    "    if light_procedure_selector == 1:\n",
    "        Energy_euler_coupling = np.append(Energy_euler_coupling, 0)\n",
    "\n",
    "    E_inter = (E[0,:] - PP * P[0,:]*du_dr*0.5*dt\n",
    "               - Rho[0,:] * U_half[:] * np.where(dPhi_dx[:-1]>0,1,0) * dPhi_dx[:-1]/(r_phys * pk_to_meter) * 0.5*dt\n",
    "                        -0.5*dt*Energy_euler_coupling/(log_step*r_phys*pk_to_meter)\n",
    "                        + 0.5*dt*heat_conductivity_interpol*ddT_dx/(r_phys*pk_to_meter)**2\n",
    "                        - 0.5*dt*inv_compton_cool_rate(n_H,x,T,z_new,M_unit))\n",
    "\n",
    "    # Шаг адвекции\n",
    "    # В зависимости от направления скорости переносим параметры (плотность, энергию) из одной ячейки в другую\n",
    "\n",
    "    # Вычисление скорости\n",
    "    U[1,:] = U[0,:] - np.sign(U_half) * (dt * U_half ** 2 * S_dual) / V_dual\n",
    "    # U[1,:] = np.sign(U_half) * np.abs(np.abs(U[0,:]) - dt * U_half ** 2 * S_dual) / (V_dual)\n",
    "    U[1,:-1] =  U[1,:-1] + np.sign(U_half[1:])*( dt * U_half[1:]**2 * S_dual[1:]) / (V_dual[1:]) * np.where(U_half[1:]<0, 1, 0)\n",
    "    U[1,1:] = U[1,1:] + np.sign(U_half[:-1])*( dt * U_half[:-1]**2 * S_dual[:-1]) / (V_dual[:-1]) * np.where(U_half[:-1]>0, 1, 0)\n",
    "    U[1,-1] = U[1,-2]\n",
    "\n",
    "    # Вычисление плотности\n",
    "    Rho[1,1:] = Rho[0,1:] - np.abs((dt * Rho[0,1:] * U_half[1:] * S[1:]) / V[1:])\n",
    "    # Следующую строчку нужно использовать чтобы вещество вылетало к центру. Ту что далее тогда нужно закомментировать\n",
    "    Rho[1,0] = Rho[0,0] - np.abs((dt * Rho[0,0] * U_half[0] * S[0]) / V[0])\n",
    "    # Следующую строчку нужно использовать если нужно накапливать плотность крайней точке. Ту что до этого тогда нужно закомментировать\n",
    "    # Rho[1,0] = Rho[0,0] - np.abs((dt * Rho[0,0] * U_half[0] * S[0]) / V[0])*(U_half[0]>0)\n",
    "    Rho_dump_left[1] = Rho_dump_left[0] + np.abs((dt * Rho[0,0] * U_half[0] * S[0]) / V[0]) * (U_half[0]<0)\n",
    "    Rho[1,:-1] = Rho[1,:-1] + np.abs((dt * Rho[0,1:] * U_half[1:] * S[1:]) / V[1:]) * np.where(U_half[1:]<0, 1, 0)\n",
    "    Rho[1,1:] = Rho[1,1:] + np.abs((dt * Rho[0,:-1] * U_half[:-1] * S[:-1]) / V[:-1]) * np.where(U_half[:-1]>0, 1, 0)\n",
    "\n",
    "    # Вычисление полной энергии\n",
    "    E[1,:] = E[0,:] - dt * E_inter * U_half * S / V\n",
    "    # E[1,:] = np.abs(E[0,:]) - np.abs((dt * E_inter * U_half * S) / V)\n",
    "    E[1,:-1] = E[1,:-1] + ((dt * E_inter[1:] * U_half[1:] * S[1:]) / V[1:]) * np.where(U_half[1:]<0, 1, 0)\n",
    "    E[1,1:] = E[1,1:] + ((dt * E_inter[:-1] * U_half[:-1] * S[:-1]) / V[:-1]) * np.where(U_half[:-1]>0, 1, 0)\n",
    "\n",
    "    # print('Rho',Rho[1,:])\n",
    "    # print('E',E[1,:])\n",
    "    # Расчет внутренней энергии\n",
    "    # m = Rho[1,:] * V\n",
    "    Eps = (E[1,:]/Rho[1,:] - U[1,:]**2/2) #- m*Phi[:-2]\n",
    "    n_H = Rho[1,:]/(m_p/M_unit)\n",
    "    T = Rho[1,:]*Eps/(n_H*3/2*k/M_unit)\n",
    "    T[-1] = 2.7 * (1+z_new) * (1 + a1**(-1)*(1+z_new)**(-1)/(1+a2**(3/2)*(1+z_new)**(3/2)))**(-1)\n",
    "    # T[-2] = T[-1]\n",
    "\n",
    "    # Условный оператор для остановки расчета при получении некорректных значений\n",
    "    if np.any(np.isnan(Rho[1,:])):\n",
    "        print(U_half)\n",
    "        break\n",
    "\n",
    "    # Обновление шага по времени, чтобы он отвечал условию КФЛ\n",
    "    # Если пересчитываем шаг по времени нужно перезапустить этот шаг сначала (делаем Indicator = False)\n",
    "    # Если условие КФЛ продолжает выполняться то делаем Indicator = True\n",
    "    # Если индикатор со значением True выживет до конца шага цикла, то мы должны перейти на следующий временной слой\n",
    "    if i==1:\n",
    "        dt_new = (C * ((r_phys[1:]-r_phys[:-1]) * pk_to_meter) / (a + (np.abs(U[1,1:])))).min()\n",
    "    else:\n",
    "        dt_new = 0.1*((C * ((r_phys[1:]-r_phys[:-1]) * pk_to_meter) / (a + (np.abs(U[1,1:])))).min())\n",
    "\n",
    "    if (dt_new < dt):\n",
    "        # print(dt, '$$', i)\n",
    "        dt = dt_new\n",
    "        indicator = False\n",
    "        indicator_2 = True\n",
    "        # print(dt, '&&', i)\n",
    "        # print('U_max',U.max())\n",
    "        continue\n",
    "\n",
    "    elif (dt_new >= dt):\n",
    "        indicator = True\n",
    "        # Следующий условный оператор нужен чтобы увеличить шаг по времени после пересчета первого шага\n",
    "        # Это нужно так как при первом пересчете шаг по времени получается излишне маленьким\n",
    "        if indicator_2 == True and i == 1:\n",
    "            dt = dt_new * dt_minimizer\n",
    "            indicator_2 = False\n",
    "            continue\n",
    "\n",
    "\n",
    "    # Обновление давления\n",
    "    P[1,:] =  (gamma - 1) * (Rho[1,:]) * M_unit * 3/2 * k/M_unit * T / m_p\n",
    "\n",
    "    # Обновление степени ионизации\n",
    "    # x = ioniz_frac(H, n_H, x, E_photon, r_phys, T, M_pbh, M_unit, dt)\n",
    "    x = ioniz_estim(n_H,T)\n",
    "    # Пересчет гравитационного потенциала (аккреция)\n",
    "    # M_pbh_accreted = (V[1] * Rho_mean * np.abs((dt * Rho[0,1] * U_half[1] * S[1]) / V[1]) * (U_half[1]<0))/M_sun\n",
    "    # M_pbh += M_pbh_accreted\n",
    "    # Phi[:-1] -= -G * M_pbh_accreted * M_sun/(r_temp * pk_to_meter)\n",
    "\n",
    "    # Если индикатор равен True, то идем на следующий временной слой, если равен False, то повторяем текущий\n",
    "    # Записываем в массив все значения шага по времени которые не вызвали пересчет слоя\n",
    "    if (indicator == True):\n",
    "        # Увеличиваем время симуляции\n",
    "        sim_time += dt\n",
    "\n",
    "        # Сохраняем значения массивов через draw_step для последующей отрисовки\n",
    "        if (i%draw_step == 0):\n",
    "            U_draw = np.vstack([U_draw, U[1,:]])\n",
    "            Rho_draw = np.vstack([Rho_draw, Rho[1,:]])\n",
    "            E_draw = np.vstack([E_draw, E[1,:]])\n",
    "            x_draw = np.vstack([x_draw, x])\n",
    "            draw_time = np.append(draw_time, sim_time)\n",
    "            # print('T: ',T)\n",
    "            # print('x: ',x)\n",
    "            # Далее идет 3 отладочных блока для вывода различных параметров\n",
    "            # print('Rho_draw[0] =', Rho_draw[Rho_draw.shape[0]-1,0])\n",
    "            # print('Rho_draw[1] =', Rho_draw[Rho_draw.shape[0]-1,1])\n",
    "            # print('Rho_draw[2] =', Rho_draw[Rho_draw.shape[0]-1,2])\n",
    "            # print('Rho_draw[3] =', Rho_draw[Rho_draw.shape[0]-1,3])\n",
    "            # print('Rho_draw[4] =', Rho_draw[Rho_draw.shape[0]-1,4])\n",
    "\n",
    "            # print('U_half[0] =', U_half[0])\n",
    "            # print('U_half[1] =', U_half[1])\n",
    "            # print('U_half[2] =', U_half[2])\n",
    "            # print('U_half[3] =', U_half[3])\n",
    "            # print('U_half[4] =', U_half[4])\n",
    "\n",
    "            # print('U_draw[0] =', U_draw[U_draw.shape[0]-1,0])\n",
    "            # print('U_draw[1] =', U_draw[U_draw.shape[0]-1,1])\n",
    "            # print('U_draw[2] =', U_draw[U_draw.shape[0]-1,2])\n",
    "            # print('U_draw[3] =', U_draw[U_draw.shape[0]-1,3])\n",
    "            # print('U_draw[4] =', U_draw[U_draw.shape[0]-1,4])\n",
    "\n",
    "            z_new = 1/(a_0 + kkk*(sim_time*3.169e-8)**(2/3))-1\n",
    "            print('Номер шага ', i)\n",
    "            print('Прошло ', sim_time * 3.169e-8, 'лет')\n",
    "            print('Текущий z ', z_new)\n",
    "            # print((- PP * P[0,:]*du_dr*0.5*dt\n",
    "            #    - Rho[0,:] * U_half[:] * np.where(dPhi_dx[:-1]>0,1,0) * dPhi_dx[:-1]/(r_phys * pk_to_meter) * 0.5*dt\n",
    "            #             -0.5*dt*Energy_euler_coupling/(log_step*r_phys*pk_to_meter)\n",
    "            #             + 0.5*dt*heat_conductivity_interpol*ddT_dx/(r_phys*pk_to_meter)**2\n",
    "            #             - 0.5*dt*inv_compton_cool_rate(n_H,x,T,z_new,M_unit)))\n",
    "        # Присвоение новых значений массивам\n",
    "        U[0,:] = U[1,:]\n",
    "        Rho[0,:] = Rho[1,:]\n",
    "        E[0,:] = E[1,:]\n",
    "        P[0,:] = P[1,:]\n",
    "        Rho_dump_left[0] = Rho_dump_left[1]\n",
    "\n",
    "        U[1,:] = 0\n",
    "        Rho[1, :] = 0\n",
    "        E[1, :] = 0\n",
    "        P[1, :] = 0\n",
    "        i = i + 1\n",
    "\n",
    "print('Общее время симуляции равно', sim_time * 3.169e-8, 'лет')"
   ],
   "metadata": {
    "collapsed": false,
    "pycharm": {
     "name": "#%%\n"
    }
   }
  },
  {
   "cell_type": "code",
   "execution_count": 60,
   "outputs": [
    {
     "name": "stdout",
     "output_type": "stream",
     "text": [
      "[336.88341717 343.29565212 337.24784296 325.7562832  312.67548309\n",
      " 300.20978448 289.72586211 283.32515444 286.01434741 295.67984584\n",
      " 308.28972535 310.11029179 310.11949614 310.11962051 310.11964434\n",
      " 310.11964979 310.11965106 310.11965136 310.11965143 310.11965144\n",
      " 310.11965145 310.11965145 310.11965145 310.11965145 310.11965145\n",
      " 310.11965145 310.11965145 310.11965145 310.11965145  15.13983226]\n"
     ]
    }
   ],
   "source": [
    "print(T)"
   ],
   "metadata": {
    "collapsed": false,
    "pycharm": {
     "name": "#%%\n"
    }
   }
  },
  {
   "cell_type": "code",
   "execution_count": 52,
   "outputs": [
    {
     "data": {
      "text/plain": "<Figure size 720x495 with 1 Axes>",
      "image/png": "[encoded data removed]"
     },
     "metadata": {
      "needs_background": "light"
     },
     "output_type": "display_data"
    },
    {
     "data": {
      "text/plain": "<Figure size 720x495 with 0 Axes>"
     },
     "metadata": {},
     "output_type": "display_data"
    }
   ],
   "source": [
    "# Отрисовка плотности\n",
    "import matplotlib.pyplot as plt\n",
    "Font = 16\n",
    "\n",
    "#Задаем начальное значение и шаг по времени для отрисовки графиков\n",
    "draw_time_zero = 1\n",
    "draw_time_step = 5\n",
    "\n",
    "fig, ax = plt.subplots()\n",
    "\n",
    "for t in range(draw_time_zero, Rho_draw.shape[0]-1, draw_time_step):\n",
    "    ax.plot(r_phys[:]*1e-3, Rho_draw[t, :], label=f\"t = {int(draw_time[t] * 3.169e-8 * 1e-3)} тыс.лет\")\n",
    "ax.legend(fontsize = Font)\n",
    "ax.set_xlabel(r\"r, кпк\",fontsize = Font)\n",
    "ax.set_ylabel(r\"$\\rho,$ $\\bar\\rho(z_0=$\"+f\"{z_0})\",fontsize = Font)\n",
    "\n",
    "ax.set_xscale('log')\n",
    "# ax.set_yscale('log')\n",
    "# ax.set_ylim(-1, 0.5)\n",
    "# ax.set_xlim(0,9)\n",
    "\n",
    "#Добавляем вертикальные линии в точках r_virial и r_s\n",
    "plt.vlines(x=[r_virial*1e-3, r_s*1e-3], ymin=0.1, ymax=Rho_draw.max(), colors=['red', 'blue'], linestyles='dashed')\n",
    "\n",
    "plt.text(x=r_virial*1e-3+0.0001, y=0.1, s=r\"$r_{virial}$\", color='red', rotation=90)\n",
    "plt.text(x=r_s*1e-3+0.001, y=0.1, s=r\"$r_{stop}$\", color='blue', rotation=90)\n",
    "\n",
    "plt.show()\n",
    "plt.savefig('Rho_1.png')"
   ],
   "metadata": {
    "collapsed": false,
    "pycharm": {
     "name": "#%%\n"
    }
   }
  },
  {
   "cell_type": "code",
   "execution_count": 61,
   "outputs": [
    {
     "data": {
      "text/plain": "<Figure size 720x495 with 1 Axes>",
      "image/png": "[encoded data removed]"
     },
     "metadata": {
      "needs_background": "light"
     },
     "output_type": "display_data"
    }
   ],
   "source": [
    "# Отрисовка Энергии\n",
    "import matplotlib.pyplot as plt\n",
    "Font = 16\n",
    "\n",
    "#Задаем начальное значение и шаг по времени для отрисовки графиков\n",
    "draw_time_zero = 1\n",
    "draw_time_step = 5\n",
    "\n",
    "fig, ax = plt.subplots()\n",
    "\n",
    "for t in range(draw_time_zero, E_draw.shape[0]-1, draw_time_step):\n",
    "    ax.plot(r_phys[:]*1e-3, E_draw[t, :], label=f\"t = {int(draw_time[t] * 3.169e-8 * 1e-3)} тыс.лет\")\n",
    "ax.legend(fontsize = Font)\n",
    "ax.set_xlabel(r\"r, кпк\",fontsize = Font)\n",
    "ax.set_ylabel(r\"E\",fontsize = Font)\n",
    "\n",
    "ax.set_xscale('log')\n",
    "# ax.set_yscale('log')\n",
    "# ax.set_ylim(-1, 0.5)\n",
    "# ax.set_xlim(0,9)\n",
    "\n",
    "#Добавляем вертикальные линии в точках r_virial и r_s\n",
    "plt.vlines(x=[r_virial*1e-3, r_s*1e-3], ymin=0.1, ymax=E_draw.max(), colors=['red', 'blue'], linestyles='dashed')\n",
    "\n",
    "plt.text(x=r_virial*1e-3+0.0001, y=0.1, s=r\"$r_{virial}$\", color='red', rotation=90)\n",
    "plt.text(x=r_s*1e-3+0.001, y=0.1, s=r\"$r_{stop}$\", color='blue', rotation=90)\n",
    "\n",
    "plt.show()\n",
    "# plt.savefig('E_1.eps')"
   ],
   "metadata": {
    "collapsed": false,
    "pycharm": {
     "name": "#%%\n"
    }
   }
  },
  {
   "cell_type": "code",
   "execution_count": 58,
   "outputs": [
    {
     "data": {
      "text/plain": "<Figure size 720x495 with 1 Axes>",
      "image/png": "[encoded data removed]"
     },
     "metadata": {
      "needs_background": "light"
     },
     "output_type": "display_data"
    }
   ],
   "source": [
    "# Отрисовка степени ионизации\n",
    "import matplotlib.pyplot as plt\n",
    "Font = 16\n",
    "\n",
    "#Задаем начальное значение и шаг по времени для отрисовки графиков\n",
    "draw_time_zero = 1\n",
    "draw_time_step = 5\n",
    "\n",
    "fig, ax = plt.subplots()\n",
    "\n",
    "for t in range(draw_time_zero, x_draw.shape[0], draw_time_step):\n",
    "    ax.plot(r_phys[:]*1e-3, x_draw[t, :], label=f\"t = {int(draw_time[t] * 3.169e-8 * 1e-3)} тыс.лет\")\n",
    "ax.legend(fontsize = Font)\n",
    "ax.set_xlabel(r\"r, кпк\",fontsize = Font)\n",
    "ax.set_ylabel(r\"x\",fontsize = Font)\n",
    "\n",
    "ax.set_xscale('log')\n",
    "# ax.set_yscale('log')\n",
    "# ax.set_ylim(-0.1, 0.5)\n",
    "# ax.set_xlim(0,9)\n",
    "\n",
    "#Добавляем вертикальные линии в точках r_virial и r_s\n",
    "plt.vlines(x=[r_virial*1e-3, r_s*1e-3], ymin=0.1, ymax=x_draw.max(), colors=['red', 'blue'], linestyles='dashed')\n",
    "\n",
    "plt.text(x=r_virial*1e-3+0.0001, y=0.1, s=r\"$r_{virial}$\", color='red', rotation=90)\n",
    "plt.text(x=r_s*1e-3+0.001, y=0.1, s=r\"$r_{stop}$\", color='blue', rotation=90)\n",
    "\n",
    "plt.show()\n",
    "# plt.savefig('Rho_1.eps')"
   ],
   "metadata": {
    "collapsed": false,
    "pycharm": {
     "name": "#%%\n"
    }
   }
  },
  {
   "cell_type": "markdown",
   "source": [],
   "metadata": {
    "collapsed": false,
    "pycharm": {
     "name": "#%% md\n"
    }
   }
  },
  {
   "cell_type": "code",
   "execution_count": null,
   "outputs": [],
   "source": [
    "# Отрисовка скорости\n",
    "import matplotlib.pyplot as plt\n",
    "\n",
    "#Задаем начальное значение и шаг по времени для отрисовки графиков\n",
    "draw_time_zero = 0\n",
    "draw_time_step = 1\n",
    "\n",
    "# создаем фигуру и оси\n",
    "fig, ax = plt.subplots()\n",
    "\n",
    "# перебираем значения draw_time от 0 до length_t-1 с шагом draw_time_step\n",
    "for t in range(draw_time_zero, U_draw.shape[0], draw_time_step):\n",
    "    # рисуем график значений Rho[t, :] и r[:] с подписью t\n",
    "    ax.plot(r_phys, U_draw[t, :], label=f\"t = {draw_time[t] * 3.169e-8}\")\n",
    "\n",
    "# добавляем легенду\n",
    "ax.legend()\n",
    "# ax.set_ylim(2500, 3500)\n",
    "# ax.set_xlim(10,12)\n",
    "\n",
    "# показываем фигуру\n",
    "plt.show()"
   ],
   "metadata": {
    "collapsed": false,
    "pycharm": {
     "name": "#%%\n"
    }
   }
  }
 ],
 "metadata": {
  "kernelspec": {
   "display_name": "Python 3",
   "language": "python",
   "name": "python3"
  },
  "language_info": {
   "codemirror_mode": {
    "name": "ipython",
    "version": 2
   },
   "file_extension": ".py",
   "mimetype": "text/x-python",
   "name": "python",
   "nbconvert_exporter": "python",
   "pygments_lexer": "ipython2",
   "version": "2.7.6"
  }
 },
 "nbformat": 4,
 "nbformat_minor": 0
}