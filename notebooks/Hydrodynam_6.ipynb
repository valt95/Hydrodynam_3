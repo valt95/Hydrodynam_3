{
 "cells": [
  {
   "cell_type": "markdown",
   "source": [
    "Оценка степени ионизации из температуры\n",
    "$X_p + X_p^2 n_B (\\frac{2\\pi}{m_e T})^{3/2}e^{\\frac{\\delta H}{T}} = 1$\n",
    "\n",
    "$X_p = \\frac{-1 \\pm \\sqrt{ 1 + 4(n_B (\\frac{2\\pi}{m_e T})^{3/2}e^{\\frac{\\delta H}{T}})}}{2 n_B (\\frac{2\\pi}{m_e T})^{3/2}e^{\\frac{\\delta H}{T}}}$\n",
    "\n",
    ",где $\\delta H = 13.6 эВ$, а $X_p = \\frac{n_p}{n_B}$. Берем корень только с +, так как с - нефизичный.\n"
   ],
   "metadata": {
    "collapsed": false,
    "pycharm": {
     "name": "#%% md\n"
    }
   }
  },
  {
   "cell_type": "markdown",
   "source": [
    "Нагрев и охлаждение\n",
    "Нагрев и охлаждение от ионизации и комптоновского рассеяния за счет аккреционного излучения уже учтены за счет членов связанных с излучением в уравнениях Эйлера.\n",
    "Перераспределение температуры за счет теплопередачи в газе также учтено.\n",
    "Не учтенным остается охлаждение газа за счет обратного комптоновского рассеяния с фотонами CMB.\n",
    "\n",
    "Из статьи Кара:\n",
    "$\\Gamma_{rad} \\approx \\frac{n_H x k T \\rho_r \\sigma_T}{m_e c} \\approx 10^{-31} x n_H z^{4} T_{4}$ $эрг$  $см^{-3}$ $с^{-1}$"
   ],
   "metadata": {
    "collapsed": false,
    "pycharm": {
     "name": "#%% md\n"
    }
   }
  },
  {
   "cell_type": "code",
   "execution_count": 1,
   "outputs": [],
   "source": [
    "def inv_compton_cool_rate(n_H,x,T,z,M_unit):\n",
    "    return 1e-31 * x * n_H * z**4 * T/(1e4) * (1e-6 * 1e-7/M_unit) # в M_unit м**(-1) с**(-3)"
   ],
   "metadata": {
    "collapsed": false,
    "pycharm": {
     "name": "#%%\n"
    }
   }
  },
  {
   "cell_type": "code",
   "execution_count": 2,
   "outputs": [],
   "source": [
    "def ioniz_estim(n_H, T):\n",
    "    m_e = 0.5e6\n",
    "    delta_H = 13.6\n",
    "    T_new = T/11604 # температура в эВ\n",
    "    if np.any((T_new<=0.02)):\n",
    "        for i in range(T_new.shape[0]):\n",
    "            if T_new[i]<=0.02:\n",
    "                T_new[i]=0.02\n",
    "    n_H_new = n_H*(1.2e-6)**3 # концентрация водорода в эВ^-3\n",
    "    a = n_H_new*np.exp(delta_H/T_new)*(2*np.pi/(m_e*T_new))**(3/2)\n",
    "    x = (-1 + np.sqrt(1+4*a))/(2*a)\n",
    "    return x"
   ],
   "metadata": {
    "collapsed": false,
    "pycharm": {
     "name": "#%%\n"
    }
   }
  },
  {
   "cell_type": "code",
   "execution_count": 3,
   "outputs": [],
   "source": [
    "def hubble_0(z):\n",
    "    # t_eq = 47000  # время RD->MD\n",
    "    # t_eq = 378000\n",
    "    t_eq = 9.8e9\n",
    "    # z_eq = 3119\n",
    "    # z_eq = 1100\n",
    "    z_eq = 0.85\n",
    "    constant = 1/((1+z_eq)*t_eq**(2/3))\n",
    "    t = (1/((1+z)*constant))**(3/2)  # грубая оценка в годах\n",
    "    Hubble_const = 2/(3*t*31536000)  # в секундах**(-1)\n",
    "    return  Hubble_const # грубая оценка на MD стадии\n",
    "def hubble(z):\n",
    "    hubble_const_0 = 2.2e-18  # в 1/c\n",
    "    omega_m_0 = 0.25\n",
    "    omega_lambda = 0.75\n",
    "    a_0 = 1\n",
    "    a = a_0/(1+z)\n",
    "    hubble_const = hubble_const_0 * np.sqrt(omega_m_0*(a_0/a)**3 + omega_lambda)\n",
    "    return hubble_const"
   ],
   "metadata": {
    "collapsed": false,
    "pycharm": {
     "name": "#%%\n"
    }
   }
  },
  {
   "cell_type": "code",
   "execution_count": 4,
   "outputs": [],
   "source": [
    "import matplotlib.pyplot as plt\n",
    "# Импорт функций для расчетов темной материи\n",
    "from md import *\n",
    "# Импорт функций для расчетов излучения\n",
    "from light_func import *\n",
    "%matplotlib inline\n",
    "import numpy as np\n",
    "plt.style.use(['seaborn-v0_8-notebook'])\n",
    "plt.rcParams.update({\"figure.facecolor\": (0,0,0,0),\n",
    "                     \"figure.dpi\": 90,\n",
    "                     \"animation.html\": \"jshtml\",\n",
    "                     \"animation.embed_limit\": 100})\n",
    "plt.rcParams['font.size'] = 20"
   ],
   "metadata": {
    "collapsed": false,
    "pycharm": {
     "name": "#%%\n"
    }
   }
  },
  {
   "cell_type": "code",
   "execution_count": 5,
   "outputs": [],
   "source": [
    "# Спектр фотонов\n",
    "# Нужен L(\\nu). Считаем спектр плоским, то есть dL/dE~E**(-1)\n",
    "# E_light_range = [13.6, 0.5e6]  # в эВ\n",
    "# E_light_number = 100  # кол-во значений\n",
    "# def light_energies(E_light_range, E_light_number):\n",
    "#     return [i for i in np.linspace(E_light_range[0],E_light_range[1],E_light_number)]\n",
    "# def light_luminosity(E_light_range, E_light_number):\n",
    "#     k = 10**40/np.sum([np.log(i) for i in light_energies(E_light_range, E_light_number)])\n",
    "#     print(k)\n",
    "#     return [k*np.log(i) for i in light_energies(E_light_range, E_light_number)]\n",
    "# light_luminosity(E_light_range, E_light_number)"
   ],
   "metadata": {
    "collapsed": false,
    "pycharm": {
     "name": "#%%\n"
    }
   }
  },
  {
   "cell_type": "code",
   "execution_count": 6,
   "outputs": [],
   "source": [
    "# Параметры задачи\n",
    "z = 100 # Красное смещение на RD->MD\n",
    "# z = 1100\n",
    "# z = 100  # Красное смещение\n",
    "M_pbh = 1e9 # масса черной дыры в солнечных массах\n",
    "t_end_years = 1e9 # Конечное время симуляции в годах\n",
    "draw_step = 10000 # Шаг для отрисовки"
   ],
   "metadata": {
    "collapsed": false,
    "pycharm": {
     "name": "#%%\n"
    }
   }
  },
  {
   "cell_type": "code",
   "execution_count": 7,
   "outputs": [],
   "source": [
    "z_0 = z\n",
    "z_new = z\n",
    "kkk = 1.247e-7\n",
    "a_0 = 1/(z+1)"
   ],
   "metadata": {
    "collapsed": false,
    "pycharm": {
     "name": "#%%\n"
    }
   }
  },
  {
   "cell_type": "code",
   "execution_count": 8,
   "outputs": [],
   "source": [
    "# Множители для отладки\n",
    "PP = 0  #множитель перед членом с давлением\n",
    "GG = 1    #гравитационная постоянная (приравнять нулю, чтобы посмотреть только с давлением)\n",
    "СС = 0   #множитель перед членом с комптоновским охлаждением в расчете энергии\n",
    "RRRho = 1  #множитель увеличивающий начальную плотность в центральной граничной точке\n",
    "TT = 1  # Множитель перед температурой в центре"
   ],
   "metadata": {
    "collapsed": false,
    "pycharm": {
     "name": "#%%\n"
    }
   }
  },
  {
   "cell_type": "code",
   "execution_count": 9,
   "outputs": [],
   "source": [
    "# Различные физические константы\n",
    "k = 1.38e-23*1e-40 # Постоянная Больцмана Дж/К\n",
    "m_p = 1.67e-27 # Масса протона кг\n",
    "c = 3e8 # Скорость света\n",
    "pk_to_meter = 3.0857e16 # Переводной коэффициент пк->м\n",
    "G = GG * 6.67e-11 # гравитационная постоянная Н*м^2/кг^2\n",
    "M_sun = 2e30 # масса солнца в кг\n",
    "gamma = 5/3 # коэффициент адиабаты\n",
    "t_end_seconds = 3.154e7 * t_end_years\n",
    "\n",
    "\n",
    "Rho_mean = 9.31e-27 * 0.04 * (1+z)**3 # Средняя плотность Вселенной\n",
    "# Rho_mean = 3*hubble(z)**2/(8*np.pi*G)"
   ],
   "metadata": {
    "collapsed": false,
    "pycharm": {
     "name": "#%%\n"
    }
   }
  },
  {
   "cell_type": "code",
   "execution_count": 10,
   "outputs": [
    {
     "data": {
      "text/plain": "3.8368409239999997e-22"
     },
     "execution_count": 10,
     "metadata": {},
     "output_type": "execute_result"
    }
   ],
   "source": [
    "Rho_mean"
   ],
   "metadata": {
    "collapsed": false,
    "pycharm": {
     "name": "#%%\n"
    }
   }
  },
  {
   "cell_type": "code",
   "execution_count": 11,
   "outputs": [],
   "source": [
    "# Блок констант далее требуется для условия Куранта-Фридрихсона-Леви (КФЛ)\n",
    "mu = 1 # Средний молекулярный вес, это значение для водорода, если будем что-то добавлять то будет что-то другое\n",
    "a1 = 1/119  # первый коэффициент в формуле для температуры\n",
    "a2 = 1/115  # второй коэффициент в формуле для температуры\n",
    "T = 2.7 * (1+z) * (1 + a1**(-1)*(1+z)**(-1)/(1+a2**(3/2)*(1+z)**(3/2))) ** (-1)  # Температура Вселенной (это задание температуры не нужно тк она перезадается далее)\n",
    "a = np.sqrt(k*T / (mu*m_p))   #скорость звука в м/c\n",
    "\n",
    "# Радиус остановки DM\n",
    "r_s = 6.7 * 10**22 * (M_pbh/10**9)**(1/3) * ((1+z)/18)**(-4/3) * 3.24 * 10**(-19)\n",
    "r_virial = r_s/4"
   ],
   "metadata": {
    "collapsed": false,
    "pycharm": {
     "name": "#%%\n"
    }
   }
  },
  {
   "cell_type": "code",
   "execution_count": 12,
   "outputs": [
    {
     "data": {
      "text/plain": "544.2870440160802"
     },
     "execution_count": 12,
     "metadata": {},
     "output_type": "execute_result"
    }
   ],
   "source": [
    "r_virial"
   ],
   "metadata": {
    "collapsed": false,
    "pycharm": {
     "name": "#%%\n"
    }
   }
  },
  {
   "cell_type": "code",
   "execution_count": 13,
   "outputs": [],
   "source": [
    "# Диапазон сетки\n",
    "r_min = r_virial#1 # внутренняя граница сетки в парсеках\n",
    "r_max = 10*r_s#100 # внешняя граница сетки в парсеках\n",
    "\n",
    "# # Логарифмическая сетка\n",
    "# r_log_min = np.log(r_min)\n",
    "# r_log_max = np.log(r_max)\n",
    "# length_r = 30\n",
    "# r_log = np.linspace(r_log_min, r_log_max, length_r)\n",
    "# r_phys = np.exp(1) ** r_log\n",
    "# log_step = r_log[1]-r_log[0]\n",
    "\n",
    "# равномерная сетка\n",
    "length_r = 30\n",
    "r_phys = np.linspace(r_min, r_max, length_r)\n",
    "lin_step = r_phys[1] - r_phys[0]\n",
    "log_step = 1"
   ],
   "metadata": {
    "collapsed": false,
    "pycharm": {
     "name": "#%%\n"
    }
   }
  },
  {
   "cell_type": "code",
   "execution_count": 14,
   "outputs": [],
   "source": [
    "\n",
    "# Задание первичного (пробного) условия КФЛ\n",
    "# Далее условие будет пересчитываться\n",
    "# Вид условия: С = ((a + |u_x|) * dt)/dx < 0.5\n",
    "# Здесь a-эффективная скорость звука, u_x-скорость газа, dt и dx шаги по времени и пространству\n",
    "# Константа в условии КФЛ\n",
    "C = 0.1\n",
    "\n",
    "# Для логарифмической сетки\n",
    "dt = C * (r_phys[1]-r_phys[0]) * pk_to_meter / a"
   ],
   "metadata": {
    "collapsed": false,
    "pycharm": {
     "name": "#%%\n"
    }
   }
  },
  {
   "cell_type": "code",
   "execution_count": 15,
   "outputs": [],
   "source": [
    "# Инициализация массивов для хранения различных переменных\n",
    "length_r = r_phys.shape[0]\n",
    "U = np.zeros((2, length_r)) # скорость газа U_0 = 0\n",
    "Rho = np.zeros((2, length_r)) # плотность газа Rho\n",
    "P = np.zeros((2, length_r)) # давление газа P\n",
    "T = np.zeros(length_r) # температура газа T\n",
    "Eps = np.zeros(length_r) # внутренняя энергия газа U\n",
    "E = np.zeros((2, length_r)) # Полная энергия\n",
    "n_H = np.zeros(length_r) # количественная плотность водорода\n",
    "Phi = np.zeros(length_r)  # гравитационный потенциал\n",
    "S_dual = np.zeros(length_r)\n",
    "V_dual = np.zeros(length_r)\n",
    "S = np.zeros(length_r)\n",
    "V = np.zeros(length_r)\n",
    "du_dr = np.zeros(length_r)\n",
    "U_half = np.zeros(length_r)\n",
    "Rho_U_half = np.zeros(length_r)"
   ],
   "metadata": {
    "collapsed": false,
    "pycharm": {
     "name": "#%%\n"
    }
   }
  },
  {
   "cell_type": "code",
   "execution_count": 16,
   "outputs": [],
   "source": [
    "# Начальные условия\n",
    "for j in range(r_phys.shape[0]):\n",
    "    # Гравитационный потенциал\n",
    "    Phi[j] = (-G*mdmt(r_phys[j]/r_s)/(r_phys[j] * pk_to_meter) * (Rho_mean * 4*np.pi/3 * (r_s*pk_to_meter)**3)\n",
    "              -G*M_pbh*M_sun/(r_phys[j] * pk_to_meter)) # в м**2/с**2\n",
    "\n",
    "    # Температура\n",
    "    T[j] = 2.7 * (1+z) * (1 + a1**(-1)*(1+z)**(-1)/(1+a2**(3/2)*(1+z)**(3/2)))**(-1)  # в кельвинах\n",
    "\n",
    "    # Плотность барионов\n",
    "    # omega_b = 0.049\n",
    "    # omega_m = 0.308\n",
    "    # Rho[0, j] = omega_b * rrb(r_phys[j]/r_s)/omega_m    #пробная плотность в Rho_mean\n",
    "    # Rho[0, j] = rrb(r_phys[j]/r_s)\n",
    "    Rho[0,j] = 1\n",
    "\n",
    "    # Так как переопределили Rho и оставили метры то нужно переопределить единицы массы\n",
    "    M_unit = Rho_mean   # Коэффициент перевода единиц массы в кг\n",
    "\n",
    "    # kkk = T/Rho[-1]\n",
    "    # T = kkk * Rho\n",
    "\n",
    "    # Концентрация водорода\n",
    "    n_H[j] = (Rho[0, j])/(m_p/M_unit)\n",
    "\n",
    "    # массовая плотность внутренней энергия\n",
    "    Eps[j] = (3/2 * k * T[j])/m_p  # В Дж/M_unit\n",
    "\n",
    "    # Скорости\n",
    "    # U[0, j] = 0   # В м/c\n",
    "    # U[0,j] = hubble(z) * r_phys[j]*pk_to_meter  # в м/с с учетом расширения Вселенной\n",
    "    U[0,j] = np.sqrt(8/3*np.pi*G*Rho[0,j]*M_unit) * r_phys[j]*pk_to_meter\n",
    "    # Плотность полной энергии\n",
    "    E[0, j] = (Rho[0, j]) * (U[0, j]**2/2 + Eps[j]) # В (Дж/м**3)/M_unit   # Здесь индексы должны учитывать сдвиг между U и Rho\n",
    "\n",
    "    # Уравнение состояния\n",
    "    P[0, j] = (gamma - 1) * (Rho[0, j]) * Eps[j]   # Давление в M_unit/м*с**2"
   ],
   "metadata": {
    "collapsed": false,
    "pycharm": {
     "name": "#%%\n"
    }
   }
  },
  {
   "cell_type": "code",
   "execution_count": 17,
   "outputs": [
    {
     "data": {
      "text/plain": "(30,)"
     },
     "execution_count": 17,
     "metadata": {},
     "output_type": "execute_result"
    }
   ],
   "source": [
    "S.shape"
   ],
   "metadata": {
    "collapsed": false,
    "pycharm": {
     "name": "#%%\n"
    }
   }
  },
  {
   "cell_type": "code",
   "execution_count": 18,
   "outputs": [],
   "source": [
    "# Блок далее нужен для синхронизации размеров векторов, чтобы далее не возникало ошибок связанных с их несовпадением\n",
    "# r_log_temp_2 = np.append(r_log[0] - log_step, r_log)\n",
    "# r_log_temp_2 = np.append(r_log_temp_2, r_log[-1] + log_step)\n",
    "# r_temp_2 = np.exp(1) ** r_log_temp_2\n",
    "# # Phi_temp = (-G*mdmt(r_temp_2[0]/r_s)/(r_temp_2[0] * pk_to_meter) * (Rho_mean * 4*np.pi/3 * (r_s*pk_to_meter)**3)\n",
    "# #               -G*M_pbh*M_sun/(r_temp_2[0] * pk_to_meter))\n",
    "# # Phi_temp_2 = (-G*mdmt(r_temp_2[-1]/r_s)/(r_temp_2[-1] * pk_to_meter) * (Rho_mean * 4*np.pi/3 * (r_s*pk_to_meter)**3)\n",
    "# #               -G*M_pbh*M_sun/(r_temp_2[-1] * pk_to_meter))\n",
    "# r_log_temp = np.append(r_log, r_log[-1] + log_step)\n",
    "# r_temp = np.exp(1) ** r_log_temp\n",
    "# r_log_temp_dop = np.append(r_log_temp, r_log_temp[-1]+log_step)\n",
    "# r_temp_dop = np.exp(1) ** r_log_temp_dop\n",
    "# r_log_temp_2 = r_log_temp - 0.5*log_step\n",
    "# r_temp_3 = np.exp(1) ** r_log_temp_2"
   ],
   "metadata": {
    "collapsed": false,
    "pycharm": {
     "name": "#%%\n"
    }
   }
  },
  {
   "cell_type": "code",
   "execution_count": 19,
   "outputs": [],
   "source": [
    "# # Задание обьемов и площадей для log сетки\n",
    "# r_phys_temp = np.exp(1)**(np.append(r_log,r_log[-1]+log_step))  # этот вектор нужен для задания обьемов ячеек по U и площадей по rho, он на один длиннее так как в расчете этих величин нужно вычитать соседние элементы\n",
    "# r_phys_temp_2 = np.append(r_phys_temp,np.exp(1)**(r_log[-1]+2*log_step)) # этот вектор нужен для задания обьемов ячеек по rho поэтому на один длиннее чем предыдущий\n",
    "# r_phys_rho = (r_phys_temp[1:]+r_phys_temp[:-1])/2\n",
    "# r_phys_rho_for_V = (r_phys_temp_2[1:]+r_phys_temp_2[:-1])/2\n",
    "# S = 4 * np.pi * r_phys_rho**2 * pk_to_meter**2\n",
    "# V = 4/3 * np.pi * (r_phys_rho_for_V[1:]**3 - r_phys_rho_for_V[:-1]**3) * pk_to_meter**3\n",
    "#\n",
    "# S_dual = 4 * np.pi * r_phys**2 * pk_to_meter**2\n",
    "# V_dual = 4/3 * np.pi * (r_phys_temp[1:]**3 - r_phys_temp[:-1]**3) * pk_to_meter**3  # r_phys_temp это вектор на один элемент длиннее чем r_phys\n",
    "\n",
    "# для равномерной сетки\n",
    "r_phys_temp = np.append(r_phys, r_phys[-1]+lin_step)\n",
    "r_phys_temp_2 = np.append(r_phys_temp,r_phys_temp[-1]+lin_step)\n",
    "r_phys_rho = (r_phys_temp[1:]+r_phys_temp[:-1])/2\n",
    "r_phys_rho_for_V = (r_phys_temp_2[1:]+r_phys_temp_2[:-1])/2\n",
    "\n",
    "S = 4 * np.pi * (r_phys_rho)**2 * pk_to_meter**2\n",
    "V = 4/3 * np.pi * (r_phys_rho_for_V[1:]**3 - r_phys_rho_for_V[:-1]**3) * pk_to_meter**3\n",
    "\n",
    "S_dual = 4 * np.pi * r_phys**2 * pk_to_meter**2\n",
    "V_dual = 4/3 * np.pi * (r_phys_temp[1:]**3 - r_phys_temp[:-1]**3) * pk_to_meter**3  # r_phys_temp это вектор на один элемент длиннее чем r_phys\n",
    "\n",
    "# # Для геометрии трубы с постоянным сечением в равномерной сетке\n",
    "# r_phys_temp = np.append(r_phys, r_phys[-1]+lin_step)\n",
    "# r_phys_temp_2 = np.append(r_phys_temp,r_phys_temp[-1]+lin_step)\n",
    "# r_phys_rho = (r_phys_temp[1:]+r_phys_temp[:-1])/2\n",
    "# r_phys_rho_for_V = (r_phys_temp_2[1:]+r_phys_temp_2[:-1])/2\n",
    "#\n",
    "# S = 1.065e36*np.ones(length_r)\n",
    "# V = S*(r_phys_rho_for_V[1:]-r_phys_rho_for_V[:-1])*pk_to_meter\n",
    "#\n",
    "# S_dual = 1.065e36*np.ones(length_r)\n",
    "# V_dual = S_dual*(r_phys_temp[1:]-r_phys_temp[:-1])*pk_to_meter  # r_phys_temp это вектор на один элемент длиннее чем r_phys"
   ],
   "metadata": {
    "collapsed": false,
    "pycharm": {
     "name": "#%%\n"
    }
   }
  },
  {
   "cell_type": "code",
   "execution_count": 20,
   "outputs": [],
   "source": [
    "# Задание температуры как функции от плотности барионов\n",
    "\n",
    "# Коэффициент при плотности в выражении для температуры\n",
    "# kkk = T(на границе)/Rho(на границе)\n",
    "# kkk = T/Rho[-1]\n",
    "# T = kkk * Rho"
   ],
   "metadata": {
    "collapsed": false,
    "pycharm": {
     "name": "#%%\n"
    }
   }
  },
  {
   "cell_type": "code",
   "execution_count": 21,
   "outputs": [],
   "source": [
    "# Изменение размеров векторов и применение граничного условия к потенциалам\n",
    "# Phi = np.append(Phi_temp, Phi)\n",
    "# Phi = np.append(Phi, Phi_temp_2)\n",
    "P[0, -1] = P[0, -2]\n",
    "# U[0, -1] = U[0, -2]\n",
    "\n",
    "# Искуственное увеличение плотности и температуры в центре (работает если был изменен соответствующий отладочный параметр)\n",
    "Rho[0,0] = Rho[0,0]*RRRho\n",
    "T[0] = T[0]*TT"
   ],
   "metadata": {
    "collapsed": false,
    "pycharm": {
     "name": "#%%\n"
    }
   }
  },
  {
   "cell_type": "code",
   "execution_count": 22,
   "outputs": [],
   "source": [
    "# Инициализация различных переменных для расчета\n",
    "i = 0 # Счетчик шагов по времени\n",
    "sim_time = 0 # Общее время симуляции\n",
    "dt_minimizer = 0.0009 # Множитель который будет использован при пересчете шагов по времени\n",
    "indicator_2 = False # Индикатор нужный для пересчета шага по времени\n",
    "Rho_dump_left = np.zeros(2) # Переменная для хранения плотности которая уходит к ЧД за пределы сетки\n",
    "LL = np.zeros(length_r)  # Переменная для хранения разницы членов гравитации и давления\n",
    "\n",
    "# Массивы для отрисовки\n",
    "U_draw = np.zeros((2,Rho.shape[1]))\n",
    "Rho_draw = np.zeros((2,Rho.shape[1]))\n",
    "E_draw = np.zeros((2,Rho.shape[1]))\n",
    "T_draw = np.zeros((2,Rho.shape[1]))\n",
    "Eps_draw = np.zeros((2,Rho.shape[1]))\n",
    "U_draw[1,:] = U[0, :]\n",
    "Rho_draw[1,:] = Rho[0, :]\n",
    "E_draw[1,:] = E[0, :]\n",
    "T_draw[1,:] = T\n",
    "z_draw = z\n",
    "Eps_draw[1,:] = Eps\n",
    "draw_time = 0"
   ],
   "metadata": {
    "collapsed": false,
    "pycharm": {
     "name": "#%%\n"
    }
   }
  },
  {
   "cell_type": "code",
   "execution_count": 23,
   "outputs": [],
   "source": [
    "# Выбор начального распределения степени ионизации и процедуры расчета излучения\n",
    "x = np.exp(-5*r_phys/r_s) # Начальное распределение степени ионизации\n",
    "x_draw = x  # Массив для отрисовки степени ионизации\n",
    "E_photon = 1000 # Энергия фотонов в эВ\n",
    "light_procedure_selector = -1   # 0 - для простой оценки, 1 - для минимального расчета потерь излучения из уравнения переноса, -1 - для выключения света"
   ],
   "metadata": {
    "collapsed": false,
    "pycharm": {
     "name": "#%%\n"
    }
   }
  },
  {
   "cell_type": "code",
   "execution_count": 24,
   "outputs": [
    {
     "name": "stdout",
     "output_type": "stream",
     "text": [
      "1936715136262.5305 && 1\n",
      "U_max 311064.7538203949\n",
      "Номер шага  10000\n",
      "Прошло  2075941.3521405417 лет\n",
      "Текущий z  82.82035966897102\n",
      "Номер шага  20000\n",
      "Прошло  4151882.7042832407 лет\n",
      "Текущий z  75.20626790345018\n",
      "Номер шага  30000\n",
      "Прошло  6227824.056421907 лет\n",
      "Текущий z  69.8111274956063\n",
      "Номер шага  40000\n",
      "Прошло  8303765.408559838 лет\n",
      "Текущий z  65.6024202619377\n",
      "Номер шага  50000\n",
      "Прошло  10379706.760697769 лет\n",
      "Текущий z  62.15261442890871\n"
     ]
    },
    {
     "ename": "KeyboardInterrupt",
     "evalue": "",
     "output_type": "error",
     "traceback": [
      "\u001B[1;31m---------------------------------------------------------------------------\u001B[0m",
      "\u001B[1;31mKeyboardInterrupt\u001B[0m                         Traceback (most recent call last)",
      "Cell \u001B[1;32mIn[24], line 148\u001B[0m\n\u001B[0;32m    144\u001B[0m E[\u001B[38;5;241m1\u001B[39m,:\u001B[38;5;241m-\u001B[39m\u001B[38;5;241m1\u001B[39m] \u001B[38;5;241m=\u001B[39m (E[\u001B[38;5;241m0\u001B[39m,:\u001B[38;5;241m-\u001B[39m\u001B[38;5;241m1\u001B[39m] \u001B[38;5;241m-\u001B[39m np\u001B[38;5;241m.\u001B[39mwhere(U_half[:\u001B[38;5;241m-\u001B[39m\u001B[38;5;241m1\u001B[39m]\u001B[38;5;241m<\u001B[39m\u001B[38;5;241m0\u001B[39m,\u001B[38;5;241m1\u001B[39m,\u001B[38;5;241m0\u001B[39m) \u001B[38;5;241m*\u001B[39m dt \u001B[38;5;241m*\u001B[39m E_inter[:\u001B[38;5;241m-\u001B[39m\u001B[38;5;241m1\u001B[39m] \u001B[38;5;241m*\u001B[39m U_half[\u001B[38;5;241m1\u001B[39m:] \u001B[38;5;241m*\u001B[39m S[:\u001B[38;5;241m-\u001B[39m\u001B[38;5;241m1\u001B[39m]\u001B[38;5;241m/\u001B[39mV[:\u001B[38;5;241m-\u001B[39m\u001B[38;5;241m1\u001B[39m]\n\u001B[0;32m    145\u001B[0m                      \u001B[38;5;241m-\u001B[39m np\u001B[38;5;241m.\u001B[39mwhere(U_half[:\u001B[38;5;241m-\u001B[39m\u001B[38;5;241m1\u001B[39m]\u001B[38;5;241m>\u001B[39m\u001B[38;5;241m0\u001B[39m,\u001B[38;5;241m1\u001B[39m,\u001B[38;5;241m0\u001B[39m) \u001B[38;5;241m*\u001B[39m dt \u001B[38;5;241m*\u001B[39m E_inter[:\u001B[38;5;241m-\u001B[39m\u001B[38;5;241m1\u001B[39m] \u001B[38;5;241m*\u001B[39m U_half[\u001B[38;5;241m1\u001B[39m:] \u001B[38;5;241m*\u001B[39m S[\u001B[38;5;241m1\u001B[39m:]\u001B[38;5;241m/\u001B[39mV[:\u001B[38;5;241m-\u001B[39m\u001B[38;5;241m1\u001B[39m])\n\u001B[0;32m    146\u001B[0m \u001B[38;5;66;03m# # # E[1,:-1] = E[0,:-1] - dt * E_inter[:-1] * U_half[:-1] * S[:-1]/V[:-1]\u001B[39;00m\n\u001B[0;32m    147\u001B[0m \u001B[38;5;66;03m# # # E[1,:] = np.abs(E[0,:]) - np.abs((dt * E_inter * U_half * S) / V)\u001B[39;00m\n\u001B[1;32m--> 148\u001B[0m E[\u001B[38;5;241m1\u001B[39m,:\u001B[38;5;241m-\u001B[39m\u001B[38;5;241m1\u001B[39m] \u001B[38;5;241m=\u001B[39m E[\u001B[38;5;241m1\u001B[39m,:\u001B[38;5;241m-\u001B[39m\u001B[38;5;241m1\u001B[39m] \u001B[38;5;241m+\u001B[39m \u001B[43m(\u001B[49m\u001B[43m(\u001B[49m\u001B[43mdt\u001B[49m\u001B[43m \u001B[49m\u001B[38;5;241;43m*\u001B[39;49m\u001B[43m \u001B[49m\u001B[43mE_inter\u001B[49m\u001B[43m[\u001B[49m\u001B[38;5;241;43m1\u001B[39;49m\u001B[43m:\u001B[49m\u001B[43m]\u001B[49m\u001B[43m \u001B[49m\u001B[38;5;241;43m*\u001B[39;49m\u001B[43m \u001B[49m\u001B[43mU_half\u001B[49m\u001B[43m[\u001B[49m\u001B[38;5;241;43m1\u001B[39;49m\u001B[43m:\u001B[49m\u001B[43m]\u001B[49m\u001B[43m \u001B[49m\u001B[38;5;241;43m*\u001B[39;49m\u001B[43m \u001B[49m\u001B[43mS\u001B[49m\u001B[43m[\u001B[49m\u001B[38;5;241;43m1\u001B[39;49m\u001B[43m:\u001B[49m\u001B[43m]\u001B[49m\u001B[43m)\u001B[49m\u001B[38;5;241;43m/\u001B[39;49m\u001B[43mV\u001B[49m\u001B[43m[\u001B[49m\u001B[43m:\u001B[49m\u001B[38;5;241;43m-\u001B[39;49m\u001B[38;5;241;43m1\u001B[39;49m\u001B[43m]\u001B[49m\u001B[43m)\u001B[49m\u001B[43m \u001B[49m\u001B[38;5;241;43m*\u001B[39;49m\u001B[43m \u001B[49m\u001B[43mnp\u001B[49m\u001B[38;5;241;43m.\u001B[39;49m\u001B[43mwhere\u001B[49m\u001B[43m(\u001B[49m\u001B[43mU_half\u001B[49m\u001B[43m[\u001B[49m\u001B[38;5;241;43m1\u001B[39;49m\u001B[43m:\u001B[49m\u001B[43m]\u001B[49m\u001B[38;5;241;43m<\u001B[39;49m\u001B[38;5;241;43m0\u001B[39;49m\u001B[43m,\u001B[49m\u001B[43m \u001B[49m\u001B[38;5;241;43m1\u001B[39;49m\u001B[43m,\u001B[49m\u001B[43m \u001B[49m\u001B[38;5;241;43m0\u001B[39;49m\u001B[43m)\u001B[49m\n\u001B[0;32m    149\u001B[0m E[\u001B[38;5;241m1\u001B[39m,\u001B[38;5;241m1\u001B[39m:] \u001B[38;5;241m=\u001B[39m E[\u001B[38;5;241m1\u001B[39m,\u001B[38;5;241m1\u001B[39m:] \u001B[38;5;241m+\u001B[39m ((dt \u001B[38;5;241m*\u001B[39m E_inter[:\u001B[38;5;241m-\u001B[39m\u001B[38;5;241m1\u001B[39m] \u001B[38;5;241m*\u001B[39m U_half[:\u001B[38;5;241m-\u001B[39m\u001B[38;5;241m1\u001B[39m] \u001B[38;5;241m*\u001B[39m S[\u001B[38;5;241m1\u001B[39m:])\u001B[38;5;241m/\u001B[39mV[\u001B[38;5;241m1\u001B[39m:]) \u001B[38;5;241m*\u001B[39m np\u001B[38;5;241m.\u001B[39mwhere(U_half[:\u001B[38;5;241m-\u001B[39m\u001B[38;5;241m1\u001B[39m]\u001B[38;5;241m>\u001B[39m\u001B[38;5;241m0\u001B[39m, \u001B[38;5;241m1\u001B[39m, \u001B[38;5;241m0\u001B[39m)\n\u001B[0;32m    150\u001B[0m \u001B[38;5;66;03m# E[1,0] = E[1,1]\u001B[39;00m\n",
      "\u001B[1;31mKeyboardInterrupt\u001B[0m: "
     ]
    }
   ],
   "source": [
    "# Расчет решения уравнений Эйлера с излучением\n",
    "# heat_conductivity_interpol = 10/M_unit\n",
    "heat_conductivity_interpol = 0\n",
    "dT_dx = np.zeros(length_r)\n",
    "ddT_dx = np.zeros(length_r)\n",
    "dPhi_dx = np.zeros(length_r)\n",
    "t_eq = 80000\n",
    "sign_norm_A_intern = -1\n",
    "sign_norm_A_outward = +1\n",
    "while (sim_time < t_end_seconds):\n",
    "    if (i == 0):\n",
    "        i = 1\n",
    "\n",
    "    # Лагранжев шаг\n",
    "\n",
    "    # Вычисление скорости на полшага вперед по времени\n",
    "    dP_dx = (P[0,1:] - P[0,:-1]) / log_step\n",
    "    # dPhi_dx = (Phi[1:] - Phi[:-1]) / log_step\n",
    "    # dPhi_dx = (-G*mdmt(r_phys/r_s)/(r_phys * pk_to_meter)**2 * (Rho_mean * 4*np.pi/3 * (r_s*pk_to_meter)**3)\n",
    "    #           -G*M_pbh*M_sun/(r_phys * pk_to_meter)**2)\n",
    "    dPhi_dx = 4/3*np.pi*G*Rho[0,:]*M_unit*r_phys_rho*pk_to_meter\n",
    "    # dPhi_dx = hubble(z_new)**2 * ((r_phys*pk_to_meter**2))/2\n",
    "    # dPhi_dx = 8*np.pi*Rho[0,:]*r_phys*pk_to_meter/6\n",
    "    r_s = 6.7 * 10**22 * (M_pbh/10**9)**(1/3) * ((1+z_new)/18)**(-4/3) * 3.24 * 10**(-19)\n",
    "    dT_dx[:-1] = (T[1:]-T[:-1])/ log_step\n",
    "    dT_dx[-1] = dT_dx[-2]\n",
    "    ddT_dx[:-1] = (dT_dx[1:] - dT_dx[:-1])/ log_step\n",
    "    ddT_dx[-1] = ddT_dx[-2]\n",
    "\n",
    "    if light_procedure_selector == 1:\n",
    "        H, Pressure_euler_coupling, Energy_euler_coupling = eddington_light(n_H, x, E_photon, M_pbh, r_phys, M_unit)\n",
    "        LL[:-1] = (- PP * (0.5*dt * dP_dx/(r_phys[:-1] * pk_to_meter)) / (Rho[0,:-1])\n",
    "                                - (0.5*dt * np.where(dPhi_dx[:-1]>0,1,0) * dPhi_dx[:-1]/(r_phys[:-1] * pk_to_meter))\n",
    "                                - 0.5*dt*Pressure_euler_coupling/(Rho[0,:-1]))\n",
    "    elif light_procedure_selector == 0:\n",
    "        H, Pressure_euler_coupling, Energy_euler_coupling = easy_eddington_light(x, r_phys, M_pbh)\n",
    "        LL[:-1] = (- PP * (0.5*dt * dP_dx/(r_phys[:-1] * pk_to_meter)) / (Rho[0,:-1])\n",
    "                                - (0.5*dt * np.where(dPhi_dx[:-1]>0,1,0) * dPhi_dx[:-1]/(r_phys[:-1] * pk_to_meter))\n",
    "                                - 0.5*dt*Pressure_euler_coupling/Rho[0,:-1])\n",
    "    elif light_procedure_selector == -1:\n",
    "        H, Pressure_euler_coupling, Energy_euler_coupling = no_light()\n",
    "        LL[:-1] = (- PP * (0.5*dt * dP_dx/(r_phys[:-1] * pk_to_meter)) / (Rho[0,:-1])\n",
    "                                - (0.5*dt * np.where(dPhi_dx[:-1]>0,1,0) * dPhi_dx[:-1])\n",
    "                                - 0.5*dt*Pressure_euler_coupling/Rho[0,:-1])\n",
    "\n",
    "    # тестовый\n",
    "    H, Pressure_euler_coupling, Energy_euler_coupling = no_light()\n",
    "    # LL[:-1] = (- PP * (0.5*dt * dP_dx/(r_phys[:-1] * pk_to_meter))/Rho[0,:-1]\n",
    "    #                             - (0.5*dt * dPhi_dx[:-1])\n",
    "    #                             - 0.5*dt*Pressure_euler_coupling/Rho[0,:-1])\n",
    "    LL[:-1] = (- PP * (0.5*dt * dP_dx/(r_phys[:-1] * pk_to_meter))\n",
    "                                - (0.5*dt * dPhi_dx[:-1])\n",
    "                                - 0.5*dt*Pressure_euler_coupling)\n",
    "\n",
    "    # Rho_U_half[:-1] = Rho[0,:-1]*U[0,:-1] + LL[:-1]   # в M_unit/(м**2 * с)\n",
    "    # Rho_U_half[-1] = Rho_U_half[-2]\n",
    "    # U_half[:-1] = Rho_U_half[:-1]/(Rho[0,:-1])  # в м/c\n",
    "    U_half[:-1] = U[0,:-1] + LL[:-1]\n",
    "\n",
    "    U_half[-1] = ((U_half[-3] - U_half[-2])/(r_phys[-3]-r_phys[-2]))*(r_phys[-1]-r_phys[-2]) + U_half[-2]\n",
    "    # Rho_U_half[-1] = ((Rho_U_half[-3] - Rho_U_half[-2])/(r_phys[-3]-r_phys[-2]))*(r_phys[-1]-r_phys[-2]) + Rho_U_half[-2]\n",
    "    # Вычисление производной скорости по времени\n",
    "    du_dx = (U_half[1:] - U_half[:-1]) / log_step\n",
    "    du_dr[:-1] = du_dx / (r_phys[:-1] * pk_to_meter)\n",
    "    du_dr[-1] = du_dr[-2]\n",
    "\n",
    "    # Промежуточная полная энергия\n",
    "    if light_procedure_selector == 1:\n",
    "        Energy_euler_coupling = np.append(Energy_euler_coupling, 0)\n",
    "\n",
    "    E_inter = (E[0,:] - PP * P[0,:]*du_dr*0.5*dt\n",
    "               - Rho[0,:] * U_half[:] * np.where(dPhi_dx>0,1,0) * dPhi_dx * 0.5*dt\n",
    "                        -0.5*dt*Energy_euler_coupling/(log_step*r_phys*pk_to_meter)\n",
    "                        + 0.5*dt*heat_conductivity_interpol*ddT_dx/(r_phys*pk_to_meter)**2\n",
    "                        - СС*0.5*dt*inv_compton_cool_rate(n_H,x,T,z_new,M_unit))\n",
    "\n",
    "    # Шаг адвекции\n",
    "    # В зависимости от направления скорости переносим параметры (плотность, энергию) из одной ячейки в другую\n",
    "\n",
    "    # Вычисление плотности\n",
    "\n",
    "    # Rho[1,:-1] = Rho[0,:-1] - np.abs((dt * Rho[0,:-1] * U_half[:-1] * S[:-1]) / V[:-1])\n",
    "    # # Следующую строчку нужно использовать чтобы вещество вылетало к центру. Ту что далее тогда нужно закомментировать\n",
    "    # # Rho[1,0] = Rho[0,0] - np.abs((dt * Rho[0,0] * U_half[0] * S[0]) / V[0])\n",
    "    # # Следующую строчку нужно использовать если нужно накапливать плотность крайней точке. Ту что до этого тогда нужно закомментировать\n",
    "    # # Rho[1,0] = Rho[0,0] - np.abs((dt * Rho[0,0] * U_half[0] * S[0]) / V[0])*(U_half[0]>0)\n",
    "    # # Rho_dump_left[1] = Rho_dump_left[0] + np.abs((dt * Rho[0,0] * U_half[0] * S[0]) / V[0]) * (U_half[0]<0)\n",
    "\n",
    "    # Rho[1,0] = Rho[1,0] + dt * Rho\n",
    "    # Rho[1,0] = Rho[1,1]\n",
    "\n",
    "\n",
    "    # Rho[1,1:-1] = (Rho[0,1:-1] + dt*(-sign_norm_A_intern*Rho_U_half[1:-1]*S_dual[1:-1]/V_dual[1:-1] - sign_norm_A_outward*Rho_U_half[2:]*S_dual[2:]/V_dual[1:-1]))\n",
    "\n",
    "    # Rho[1,1:-1] = (Rho[0,1:-1] + dt*(-sign_norm_A_intern*Rho[0,:-2]*U_half[1:-1]*S_dual[1:-1]/V_dual[1:-1]\n",
    "    #                                  - sign_norm_A_outward*Rho[0,1:-1]*U_half[2:]*S_dual[2:]/V_dual[1:-1]))\n",
    "    # Rho[1,1:-1] = (Rho[0,1:-1] + dt*(-sign_norm_A_intern*Rho[0,:-2]*U_half[1:-1]*S_dual[1:-1]/V_dual[1:-1]\n",
    "    #                                  - sign_norm_A_outward*Rho[0,1:-1]*U_half[2:]*S_dual[2:]/V_dual[1:-1]))\n",
    "\n",
    "\n",
    "\n",
    "    # U[1,1:-1] = (Rho[0,1:-1]*U[0,1:-1] - dt*sign_norm_A_intern*((Rho_U_half[:-2]+Rho_U_half[1:-1])/2)*((U_half[1:-1]+U_half[:-2])/2)*S[:-2]/V[:-2] - dt*sign_norm_A_outward*((Rho_U_half[1:-1]+Rho_U_half[2:])/2)*((U_half[2:]+U_half[1:-1])/2)*S[1:-1]/V[:-2])/Rho[1,1:-1]\n",
    "    # U[1,1:-1] = (Rho[0,1:-1]*U[0,1:-1] - dt*sign_norm_A_intern*(Rho_U_half[1:-1])*((U_half[1:-1]+U_half[:-2])/2)*S[:-2]/V[:-2] - dt*sign_norm_A_outward*(Rho_U_half[2:])*((U_half[2:]+U_half[1:-1])/2)*S[1:-1]/V[:-2])/Rho[1,1:-1]\n",
    "    # U[1,1:-1] = (U[0,1:-1]*Rho[0,1:-1] - dt*sign_norm_A_intern*Rho[0,:-2]*U[0,:-2]*U_half[:-2]*S[:-2]/V[1:-1]\n",
    "    #                                    - dt*sign_norm_A_outward*Rho[0,1:-1]*U[0,1:-1]*U_half[1:-1]*S[1:-1]/V[1:-1])/Rho[1,1:-1]\n",
    "    # U[1,1:-1] = (Rho[0,1:-1]*U[0,1:-1] - dt*sign_norm_A_intern*((Rho[1,1:-1]+Rho[0,1:-1])/2)*(((U_half[1:-1]+U_half[:-2])/2)**2)*S[1:-1]/V[1:-1] - dt*sign_norm_A_outward*((Rho[1,1:-1]+Rho[0,1:-1])/2)*(((U_half[2:]+U_half[1:-1])/2)**2)*S[2:]/V[1:-1])/Rho[1,1:-1]\n",
    "    # U[1,:-1] = Rho[0,:-1]*U[0,:-1]/Rho[1,:-1] - dt*sign_norm_A_intern*(Rho[])\n",
    "\n",
    "    # E[1,:-1] = (E[0,:-1] + dt*(-sign_norm_A_intern*E_inter[:-1]*U_half[:-1]*S_dual[:-1]/V_dual[:-1] - sign_norm_A_outward*E_inter[:-1]*U_half[1:]*S[1:]/V[:-1]))\n",
    "\n",
    "    # - np.where(U_half[:-1]<0,1,0)*np.abs((dt * Rho[0,:-2] *  U_half[1:-1] * S_dual[1:-1]) / V_dual[1:-1])\n",
    "    Rho[1,1:-1] = Rho[0,1:-1] - np.abs(dt * Rho[0,1:-1] * U_half[2:] * S_dual[2:] / V_dual[1:-1])\n",
    "\n",
    "    # Rho[1,:-1] = Rho[1,:-1] + np.abs((dt * Rho[0,1:] * U_half[1:] * S[1:]) / V[:-1]) * np.where(U_half[1:]<0, 1, 0)\n",
    "    Rho[1,1:-1] = Rho[1,1:-1] + np.abs(dt * Rho[0,:-2] * U_half[1:-1] * S_dual[1:-1] / V_dual[:-2])\n",
    "\n",
    "    Rho[1,-1] = Rho[1,-2]\n",
    "    Rho[1,0] = Rho[1,1]\n",
    "    # Rho[1,0] = Rho[1,0] =\n",
    "    # Вычисление скорости\n",
    "    # - np.where(U_half[:-1]<0,1,0)*np.sign(U_half[:-1]) * (dt * Rho[0,:-1] * U_half[:-1] ** 2 * S[:-1]) / V[:-1]\n",
    "    U[1,1:-1] = (U[0,1:-1]*Rho[0,1:-1] - (dt * Rho[0,1:-1]*((U_half[2:]+U_half[1:-1])/2) * U[0,1:-1] * S[1:-1]) / V[1:-1])/Rho[1,1:-1]\n",
    "    # # # # U[1,:-1] = U[0,:-1] - np.sign(U_half[:-1]) * (dt * U_half[:-1] ** 2 * S_dual[:-1]) / V_dual[:-1]\n",
    "    # # # # U[1,:] = np.sign(U_half) * np.abs(np.abs(U[0,:]) - dt * U_half ** 2 * S_dual) / (V_dual)\n",
    "    # U[1,:-1] =  U[1,:-1] + np.sign(U_half[1:])*( dt * U_half[1:]**2 * S_dual[1:]) / (V_dual[:-1]) * np.where(U_half[1:]<0, 1, 0)*Rho[0,:-1]/Rho[1,:-1]\n",
    "    U[1,1:-1] = U[1,1:-1] + (dt * Rho[0,:-2]*((U_half[:-2]+U_half[1:-1])/2)*U[0,:-2] * S[:-2]) / (V[1:-1])/Rho[1,1:-1]\n",
    "\n",
    "    U[1,-1] = ((U[1,-3] - U[1,-2])/(r_phys[-3]-r_phys[-2]))*(r_phys[-1]-r_phys[-2]) + U[1,-2]\n",
    "    U[1,0] = ((U[1,4] - U[1,5])/(r_phys[4]-r_phys[5]))*(r_phys[0]-r_phys[5]) + U[1,5]\n",
    "    # U[1,-1] = hubble(z_new)*r_phys[-1]*pk_to_meter\n",
    "    # U[1,0] = hubble(z_new)*r_phys[0]*pk_to_meter\n",
    "    # z_new = 1/(a_0 + kkk*(sim_time*3.169e-8)**(2/3))-1\n",
    "    # U[1,:] = hubble(z_new) * r_phys * pk_to_meter\n",
    "\n",
    "\n",
    "    # Rho[1,:] = np.where(Rho[1,:]<0,0,1)*Rho[1,:]\n",
    "    #\n",
    "    # Rho[1,:] = np.where(Rho[1,:]==0,Rho_mean,Rho[1,:])\n",
    "\n",
    "    # Rho[1,0] = ((sim_time*3.169e-8+t_eq)/t_eq)**-2\n",
    "    # Rho[1,-1] = ((sim_time*3.169e-8+t_eq)/t_eq)**-2\n",
    "\n",
    "    # Вычисление полной энергии\n",
    "    E[1,:-1] = (E[0,:-1] - np.where(U_half[:-1]<0,1,0) * dt * E_inter[:-1] * U_half[1:] * S[:-1]/V[:-1]\n",
    "                         - np.where(U_half[:-1]>0,1,0) * dt * E_inter[:-1] * U_half[1:] * S[1:]/V[:-1])\n",
    "    # # # E[1,:-1] = E[0,:-1] - dt * E_inter[:-1] * U_half[:-1] * S[:-1]/V[:-1]\n",
    "    # # # E[1,:] = np.abs(E[0,:]) - np.abs((dt * E_inter * U_half * S) / V)\n",
    "    E[1,:-1] = E[1,:-1] + ((dt * E_inter[1:] * U_half[1:] * S[1:])/V[:-1]) * np.where(U_half[1:]<0, 1, 0)\n",
    "    E[1,1:] = E[1,1:] + ((dt * E_inter[:-1] * U_half[:-1] * S[1:])/V[1:]) * np.where(U_half[:-1]>0, 1, 0)\n",
    "    # E[1,0] = E[1,1]\n",
    "    E[1,-1] = E[1,-2]\n",
    "\n",
    "    # E[1,:] = np.where(E[1,:]<0,0,E[1,:])\n",
    "\n",
    "    # print('Rho',Rho[1,:])\n",
    "    # print('E',E[1,:])\n",
    "    # Расчет внутренней энергии\n",
    "    # m = Rho[1,:] * V\n",
    "    Eps[:-1] = (E[1,:-1]/Rho[1,:-1] - (U[1,1:]**2)/2) #- m*Phi[:-2]\n",
    "    Eps[-1] = Eps[-2]\n",
    "    # Eps = np.where(Eps<0,0,Eps)\n",
    "    # n_H = Rho[1,:]/(m_p/M_unit)\n",
    "    T = m_p*Eps/(3/2*k)\n",
    "    # T[-1] = 2.7 * (1+z_new) * (1 + a1**(-1)*(1+z_new)**(-1)/(1+a2**(3/2)*(1+z_new)**(3/2)))**(-1)\n",
    "    # T[-2] = T[-1]\n",
    "\n",
    "    # Условный оператор для остановки расчета при получении некорректных значений\n",
    "    if np.any(np.isnan(Rho[1,:])):\n",
    "        print(U_half)\n",
    "        break\n",
    "\n",
    "    # Обновление шага по времени, чтобы он отвечал условию КФЛ\n",
    "    # Если пересчитываем шаг по времени нужно перезапустить этот шаг сначала (делаем Indicator = False)\n",
    "    # Если условие КФЛ продолжает выполняться то делаем Indicator = True\n",
    "    # Если индикатор со значением True выживет до конца шага цикла, то мы должны перейти на следующий временной слой\n",
    "    if i==1:\n",
    "        dt_new = (C * ((r_phys[1:]-r_phys[:-1]) * pk_to_meter) / (a + (np.abs(U[1,1:])))).min()\n",
    "    else:\n",
    "        dt_new = 0.1*((C * ((r_phys[1:]-r_phys[:-1]) * pk_to_meter) / (a + (np.abs(U[1,1:])))).min())\n",
    "\n",
    "    if (dt_new < dt):\n",
    "        # print(dt, '$$', i)\n",
    "        dt = dt_new\n",
    "        indicator = False\n",
    "        indicator_2 = True\n",
    "        print(dt, '&&', i)\n",
    "        print('U_max',U.max())\n",
    "        continue\n",
    "\n",
    "    elif (dt_new >= dt):\n",
    "        indicator = True\n",
    "        # Следующий условный оператор нужен чтобы увеличить шаг по времени после пересчета первого шага\n",
    "        # Это нужно так как при первом пересчете шаг по времени получается излишне маленьким\n",
    "        if indicator_2 == True and i == 1:\n",
    "            dt = dt_new * dt_minimizer\n",
    "            indicator_2 = False\n",
    "            continue\n",
    "\n",
    "\n",
    "    # Обновление давления\n",
    "    P[1,:] =  (gamma - 1) * (Rho[1,:]) * 3/2 * k * T / m_p\n",
    "\n",
    "    # Обновление степени ионизации\n",
    "    # x = ioniz_frac(H, n_H, x, E_photon, r_phys, T, M_pbh, M_unit, dt)\n",
    "    x = ioniz_estim(n_H,T)\n",
    "    # Пересчет гравитационного потенциала (аккреция)\n",
    "    # M_pbh_accreted = (V[1] * Rho_mean * np.abs((dt * Rho[0,1] * U_half[1] * S[1]) / V[1]) * (U_half[1]<0))/M_sun\n",
    "    # M_pbh += M_pbh_accreted\n",
    "    # Phi[:-1] -= -G * M_pbh_accreted * M_sun/(r_temp * pk_to_meter)\n",
    "\n",
    "    # Если индикатор равен True, то идем на следующий временной слой, если равен False, то повторяем текущий\n",
    "    # Записываем в массив все значения шага по времени которые не вызвали пересчет слоя\n",
    "    if (indicator == True):\n",
    "        # Увеличиваем время симуляции\n",
    "        sim_time += dt\n",
    "\n",
    "        # Сохраняем значения массивов через draw_step для последующей отрисовки\n",
    "        if (i%draw_step == 0):\n",
    "            U_draw = np.vstack([U_draw, U[1,:]])\n",
    "            Rho_draw = np.vstack([Rho_draw, Rho[1,:]])\n",
    "            E_draw = np.vstack([E_draw, E[1,:]])\n",
    "            x_draw = np.vstack([x_draw, x])\n",
    "            T_draw = np.vstack([T_draw, T])\n",
    "            Eps_draw = np.vstack([Eps_draw, Eps])\n",
    "            draw_time = np.append(draw_time, sim_time)\n",
    "\n",
    "            z_new = 1/(a_0 + kkk*(sim_time*3.169e-8)**(2/3))-1\n",
    "            z_draw = np.append(z_draw,z_new)\n",
    "\n",
    "            print('Номер шага ', i)\n",
    "            print('Прошло ', sim_time * 3.169e-8, 'лет')\n",
    "            print('Текущий z ', z_new)\n",
    "\n",
    "        # Присвоение новых значений массивам\n",
    "        U[0,:] = U[1,:]\n",
    "        Rho[0,:] = Rho[1,:]\n",
    "        E[0,:] = E[1,:]\n",
    "        P[0,:] = P[1,:]\n",
    "        Rho_dump_left[0] = Rho_dump_left[1]\n",
    "\n",
    "        U[1,:] = 0\n",
    "        Rho[1, :] = 0\n",
    "        E[1, :] = 0\n",
    "        P[1, :] = 0\n",
    "        i = i + 1\n",
    "\n",
    "print('Общее время симуляции равно', sim_time * 3.169e-8, 'лет')"
   ],
   "metadata": {
    "collapsed": false,
    "pycharm": {
     "name": "#%%\n"
    }
   }
  },
  {
   "cell_type": "code",
   "execution_count": 25,
   "outputs": [
    {
     "data": {
      "text/plain": "<Figure size 720x495 with 1 Axes>",
      "image/png": "[encoded data removed]"
     },
     "metadata": {
      "needs_background": "light"
     },
     "output_type": "display_data"
    }
   ],
   "source": [
    "# Отрисовка плотности\n",
    "import matplotlib.pyplot as plt\n",
    "Font = 16\n",
    "\n",
    "#Задаем начальное значение и шаг по времени для отрисовки графиков\n",
    "draw_time_zero = 0\n",
    "draw_time_step = 1\n",
    "\n",
    "fig, ax = plt.subplots()\n",
    "\n",
    "for t in range(draw_time_zero, Rho_draw.shape[0]-1, draw_time_step):\n",
    "    ax.plot(r_phys[:]*1e-3, Rho_draw[t+1, :],  label=f\"t = {int(draw_time[t] * 3.169e-8 * 1e-3)} тыс.лет\")\n",
    "ax.legend(fontsize = Font)\n",
    "ax.set_xlabel(r\"r, кпк\",fontsize = Font)\n",
    "ax.set_ylabel(r\"$\\rho,$ $\\bar\\rho(z_0=$\"+f\"{z_0})\",fontsize = Font)\n",
    "\n",
    "ax.set_xscale('log')\n",
    "# ax.set_yscale('log')\n",
    "# ax.set_ylim(-1, 1.5)\n",
    "# ax.set_xlim(0,9)\n",
    "\n",
    "#Добавляем вертикальные линии в точках r_virial и r_s\n",
    "# plt.vlines(x=[r_virial*1e-3, r_s*1e-3], ymin=0.1, ymax=Rho_draw.max(), colors=['red', 'blue'], linestyles='dashed')\n",
    "\n",
    "# plt.text(x=r_virial*1e-3+0.0001, y=0.1, s=r\"$r_{virial}$\", color='red', rotation=90)\n",
    "# plt.text(x=r_s*1e-3+0.001, y=0.1, s=r\"$r_{stop}$\", color='blue', rotation=90)\n",
    "\n",
    "plt.show()\n",
    "# plt.savefig('Rho_1.png')"
   ],
   "metadata": {
    "collapsed": false,
    "pycharm": {
     "name": "#%%\n"
    }
   }
  },
  {
   "cell_type": "code",
   "execution_count": 26,
   "outputs": [
    {
     "data": {
      "text/plain": "[<matplotlib.lines.Line2D at 0x219f4743d90>]"
     },
     "execution_count": 26,
     "metadata": {},
     "output_type": "execute_result"
    },
    {
     "data": {
      "text/plain": "<Figure size 720x495 with 1 Axes>",
      "image/png": "[encoded data removed]"
     },
     "metadata": {
      "needs_background": "light"
     },
     "output_type": "display_data"
    }
   ],
   "source": [
    "# Отрисовка плотности\n",
    "import matplotlib.pyplot as plt\n",
    "Font = 16\n",
    "\n",
    "#Задаем начальное значение и шаг по времени для отрисовки графиков\n",
    "draw_time_zero = 1\n",
    "draw_time_step = 1\n",
    "\n",
    "fig, ax = plt.subplots()\n",
    "t_eq = 80000\n",
    "ax.plot((draw_time[1:])/draw_time[1], Rho_draw[2:, -1]/Rho_draw[2, -1],  label=f\"t = {int(draw_time[t] * 3.169e-8 * 1e-3)} тыс.лет\")\n",
    "ax.set_xscale('log')\n",
    "ax.set_yscale('log')\n",
    "ax.plot((draw_time[1:])/(draw_time[1]),((draw_time[1:])/draw_time[1])**-2)\n",
    "# ax.set_ylim(0.001,1.1)"
   ],
   "metadata": {
    "collapsed": false,
    "pycharm": {
     "name": "#%%\n"
    }
   }
  },
  {
   "cell_type": "code",
   "execution_count": 27,
   "outputs": [
    {
     "data": {
      "text/plain": "array([9.91541836e+29, 2.47885459e+29, 1.10171315e+29, 6.19713648e+28,\n       3.96616735e+28])"
     },
     "execution_count": 27,
     "metadata": {},
     "output_type": "execute_result"
    }
   ],
   "source": [
    "((draw_time[1:]*3.169e-8)/(draw_time[1])*3.169e-8)**-2"
   ],
   "metadata": {
    "collapsed": false,
    "pycharm": {
     "name": "#%%\n"
    }
   }
  },
  {
   "cell_type": "code",
   "execution_count": 28,
   "outputs": [
    {
     "data": {
      "text/plain": "[<matplotlib.lines.Line2D at 0x219f47df520>]"
     },
     "execution_count": 28,
     "metadata": {},
     "output_type": "execute_result"
    },
    {
     "data": {
      "text/plain": "<Figure size 720x495 with 1 Axes>",
      "image/png": "[encoded data removed]"
     },
     "metadata": {
      "needs_background": "light"
     },
     "output_type": "display_data"
    }
   ],
   "source": [
    "# Отрисовка скорости\n",
    "import matplotlib.pyplot as plt\n",
    "Font = 16\n",
    "\n",
    "#Задаем начальное значение и шаг по времени для отрисовки графиков\n",
    "draw_time_zero = 1\n",
    "draw_time_step = 1\n",
    "\n",
    "fig, ax = plt.subplots()\n",
    "t_eq = 500000\n",
    "ax.plot((draw_time[1:])/draw_time[1], U_draw[2:, -1]/U_draw[2, -1],  label=f\"t = {int(draw_time[t] * 3.169e-8 * 1e-3)} тыс.лет\")\n",
    "ax.set_xscale('log')\n",
    "ax.set_yscale('log')\n",
    "ax.plot((draw_time[1:])/(draw_time[1]),((draw_time[1:])/draw_time[1])**-1)\n",
    "# ax.set_ylim(0.001,1.1)"
   ],
   "metadata": {
    "collapsed": false,
    "pycharm": {
     "name": "#%%\n"
    }
   }
  },
  {
   "cell_type": "code",
   "execution_count": null,
   "outputs": [],
   "source": [
    "fig, ax = plt.subplots()\n",
    "start_t = 1\n",
    "for i in range(20,T_draw.shape[1]-1):\n",
    "    ax.plot(z_draw[start_t:],T_draw[start_t:-1,i],label=i)\n",
    "ax.legend(fontsize = Font)\n",
    "ax.invert_xaxis()\n",
    "# ax.set_ylim(0,0.00000000001)"
   ],
   "metadata": {
    "collapsed": false,
    "pycharm": {
     "name": "#%%\n"
    }
   }
  },
  {
   "cell_type": "code",
   "execution_count": null,
   "outputs": [],
   "source": [
    "# Отрисовка внутренней Энергии\n",
    "import matplotlib.pyplot as plt\n",
    "Font = 16\n",
    "\n",
    "#Задаем начальное значение и шаг по времени для отрисовки графиков\n",
    "draw_time_zero = 1\n",
    "draw_time_step = 1\n",
    "\n",
    "fig, ax = plt.subplots()\n",
    "\n",
    "for t in range(draw_time_zero, Eps_draw.shape[0]-1, draw_time_step):\n",
    "    ax.plot(r_phys[:]*1e-3, Eps_draw[t, :], label=f\"t = {int(draw_time[t] * 3.169e-8 * 1e-3)} тыс.лет\")\n",
    "ax.legend(fontsize = Font)\n",
    "ax.set_xlabel(r\"r, кпк\",fontsize = Font)\n",
    "ax.set_ylabel(r\"Eps\",fontsize = Font)\n",
    "\n",
    "ax.set_xscale('log')\n",
    "# ax.set_yscale('log')\n",
    "# ax.set_ylim(-1, 0.5)\n",
    "# ax.set_xlim(0,9)\n",
    "\n",
    "#Добавляем вертикальные линии в точках r_virial и r_s\n",
    "plt.vlines(x=[r_virial*1e-3, r_s*1e-3], ymin=0.1, ymax=E_draw.max(), colors=['red', 'blue'], linestyles='dashed')\n",
    "\n",
    "plt.text(x=r_virial*1e-3+0.0001, y=0.1, s=r\"$r_{virial}$\", color='red', rotation=90)\n",
    "plt.text(x=r_s*1e-3+0.001, y=0.1, s=r\"$r_{stop}$\", color='blue', rotation=90)\n",
    "\n",
    "plt.show()\n",
    "# plt.savefig('E_1.eps')"
   ],
   "metadata": {
    "collapsed": false,
    "pycharm": {
     "name": "#%%\n"
    }
   }
  },
  {
   "cell_type": "code",
   "execution_count": null,
   "outputs": [],
   "source": [
    "# Отрисовка полной Энергии\n",
    "import matplotlib.pyplot as plt\n",
    "Font = 16\n",
    "\n",
    "#Задаем начальное значение и шаг по времени для отрисовки графиков\n",
    "draw_time_zero = 1\n",
    "draw_time_step = 1\n",
    "\n",
    "fig, ax = plt.subplots()\n",
    "\n",
    "for t in range(draw_time_zero, E_draw.shape[0]-1, draw_time_step):\n",
    "    ax.plot(r_phys[:]*1e-3, E_draw[t, :], label=f\"t = {int(draw_time[t] * 3.169e-8 * 1e-3)} тыс.лет\")\n",
    "ax.legend(fontsize = Font)\n",
    "ax.set_xlabel(r\"r, кпк\",fontsize = Font)\n",
    "ax.set_ylabel(r\"E\",fontsize = Font)\n",
    "\n",
    "ax.set_xscale('log')\n",
    "# ax.set_yscale('log')\n",
    "# ax.set_ylim(-1, 1e10)\n",
    "# ax.set_xlim(0,0.01)\n",
    "\n",
    "#Добавляем вертикальные линии в точках r_virial и r_s\n",
    "plt.vlines(x=[r_virial*1e-3, r_s*1e-3], ymin=0.1, ymax=E_draw.max(), colors=['red', 'blue'], linestyles='dashed')\n",
    "\n",
    "plt.text(x=r_virial*1e-3+0.0001, y=0.1, s=r\"$r_{virial}$\", color='red', rotation=90)\n",
    "plt.text(x=r_s*1e-3+0.001, y=0.1, s=r\"$r_{stop}$\", color='blue', rotation=90)\n",
    "\n",
    "plt.show()\n",
    "# plt.savefig('E_1.eps')"
   ],
   "metadata": {
    "collapsed": false,
    "pycharm": {
     "name": "#%%\n"
    }
   }
  },
  {
   "cell_type": "code",
   "execution_count": null,
   "outputs": [],
   "source": [
    "# Отрисовка степени ионизации\n",
    "import matplotlib.pyplot as plt\n",
    "Font = 16\n",
    "\n",
    "#Задаем начальное значение и шаг по времени для отрисовки графиков\n",
    "draw_time_zero = 0\n",
    "draw_time_step = 1\n",
    "\n",
    "fig, ax = plt.subplots()\n",
    "\n",
    "for t in range(draw_time_zero, x_draw.shape[0], draw_time_step):\n",
    "    ax.plot(r_phys[:]*1e-3, x_draw[t, :], label=f\"t = {int(draw_time[t] * 3.169e-8 * 1e-3)} тыс.лет\")\n",
    "ax.legend(fontsize = Font)\n",
    "ax.set_xlabel(r\"r, кпк\",fontsize = Font)\n",
    "ax.set_ylabel(r\"x\",fontsize = Font)\n",
    "\n",
    "\n",
    "ax.set_xscale('log')\n",
    "# ax.set_yscale('log')\n",
    "# ax.set_ylim(-0.1, 0.5)\n",
    "# ax.set_xlim(0,9)\n",
    "\n",
    "#Добавляем вертикальные линии в точках r_virial и r_s\n",
    "plt.vlines(x=[r_virial*1e-3, r_s*1e-3], ymin=0.1, ymax=x_draw.max(), colors=['red', 'blue'], linestyles='dashed')\n",
    "\n",
    "plt.text(x=r_virial*1e-3+0.0001, y=0.1, s=r\"$r_{virial}$\", color='red', rotation=90)\n",
    "plt.text(x=r_s*1e-3+0.001, y=0.1, s=r\"$r_{stop}$\", color='blue', rotation=90)\n",
    "\n",
    "plt.show()\n",
    "# plt.savefig('Rho_1.eps')"
   ],
   "metadata": {
    "collapsed": false,
    "pycharm": {
     "name": "#%%\n"
    }
   }
  },
  {
   "cell_type": "code",
   "execution_count": null,
   "outputs": [],
   "source": [
    "# Отрисовка скорости\n",
    "import matplotlib.pyplot as plt\n",
    "\n",
    "#Задаем начальное значение и шаг по времени для отрисовки графиков\n",
    "draw_time_zero = 1\n",
    "draw_time_step = 1\n",
    "\n",
    "# создаем фигуру и оси\n",
    "fig, ax = plt.subplots()\n",
    "\n",
    "# перебираем значения draw_time от 0 до length_t-1 с шагом draw_time_step\n",
    "for t in range(draw_time_zero, U_draw.shape[0]-1, draw_time_step):\n",
    "    # рисуем график значений Rho[t, :] и r[:] с подписью t\n",
    "    ax.plot(r_phys[:], U_draw[t, :], label=f\"t = {int(draw_time[t] * 3.169e-8)}\")\n",
    "\n",
    "# for t in range(draw_time_zero, Rho_draw.shape[0]-1, draw_time_step):\n",
    "#     ax.plot(r_phys[:]*1e-3, Rho_draw[t, :], label=f\"t = {int(draw_time[t] * 3.169e-8 * 1e-3)} тыс.лет\")\n",
    "# ax.legend(fontsize = Font)\n",
    "# ax.set_xlabel(r\"r, кпк\",fontsize = Font)\n",
    "# ax.set_ylabel(r\"$\\rho,$ $\\bar\\rho(z_0=$\"+f\"{z_0})\",fontsize = Font)\n",
    "\n",
    "# добавляем легенду\n",
    "ax.legend(fontsize = Font)\n",
    "ax.set_xlabel(r\"r, кпк\",fontsize = Font)\n",
    "ax.set_ylabel(r\"x\",fontsize = Font)\n",
    "# ax.set_ylim(2500, 3500)\n",
    "# ax.set_xlim(10,12)\n",
    "\n",
    "# показываем фигуру\n",
    "plt.show()"
   ],
   "metadata": {
    "collapsed": false,
    "pycharm": {
     "name": "#%%\n"
    }
   }
  },
  {
   "cell_type": "code",
   "execution_count": null,
   "outputs": [],
   "source": [
    "fig, ax = plt.subplots()\n",
    "i = 5\n",
    "ax.plot(r_phys,U_draw[i,:]/(np.sqrt(Rho_draw[1,:])*r_phys))\n",
    "# ax.set_ylim(1710,1720)"
   ],
   "metadata": {
    "collapsed": false,
    "pycharm": {
     "name": "#%%\n"
    }
   }
  },
  {
   "cell_type": "code",
   "execution_count": null,
   "outputs": [],
   "source": [
    "U_draw[i,:]/(np.sqrt(Rho_draw[i,:])*r_phys)"
   ],
   "metadata": {
    "collapsed": false,
    "pycharm": {
     "name": "#%%\n"
    }
   }
  },
  {
   "cell_type": "code",
   "execution_count": null,
   "outputs": [],
   "source": [
    "r_phys"
   ],
   "metadata": {
    "collapsed": false,
    "pycharm": {
     "name": "#%%\n"
    }
   }
  }
 ],
 "metadata": {
  "kernelspec": {
   "display_name": "Python 3",
   "language": "python",
   "name": "python3"
  },
  "language_info": {
   "codemirror_mode": {
    "name": "ipython",
    "version": 2
   },
   "file_extension": ".py",
   "mimetype": "text/x-python",
   "name": "python",
   "nbconvert_exporter": "python",
   "pygments_lexer": "ipython2",
   "version": "2.7.6"
  }
 },
 "nbformat": 4,
 "nbformat_minor": 0
}