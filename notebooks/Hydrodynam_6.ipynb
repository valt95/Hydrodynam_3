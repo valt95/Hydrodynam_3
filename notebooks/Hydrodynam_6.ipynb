{
 "cells": [
  {
   "cell_type": "code",
   "execution_count": 1,
   "outputs": [],
   "source": [
    "# Параметры задачи\n",
    "z = 3119  # Красное смещение\n",
    "M_pbh = 1e9 # масса черной дыры в солнечных массах\n",
    "t_end_years = 1e9 # Конечное время симуляции в годах\n",
    "draw_step = 10000 # Шаг для отрисовки"
   ],
   "metadata": {
    "collapsed": false,
    "pycharm": {
     "name": "#%%\n"
    }
   }
  },
  {
   "cell_type": "code",
   "execution_count": 2,
   "outputs": [],
   "source": [
    "# Множители для отладки\n",
    "PP = 1  #множитель перед членом с давлением\n",
    "GG = 1    #гравитационная постоянная (приравнять нулю, чтобы посмотреть только с давлением)\n",
    "RRRho = 1  #множитель увеличивающий начальную плотность в центральной граничной точке\n",
    "TT = 1  # Множитель перед температурой в центре"
   ],
   "metadata": {
    "collapsed": false,
    "pycharm": {
     "name": "#%%\n"
    }
   }
  },
  {
   "cell_type": "code",
   "execution_count": 3,
   "outputs": [],
   "source": [
    "# Различные физические константы\n",
    "k = 1.38e-23 # Постоянная Больцмана Дж/К\n",
    "m_p = 1.67e-27 # Масса протона кг\n",
    "c = 3e8 # Скорость света\n",
    "pk_to_meter = 3e16 # Переводной коэффициент пк->м\n",
    "G = GG * 6.67e-11 # гравитационная постоянная Н*м^2/кг^2\n",
    "M_sun = 2e30 # масса солнца в кг\n",
    "gamma = 5/3 # коэффициент адиабаты\n",
    "t_end_seconds = 3.154e7 * t_end_years\n",
    "\n",
    "\n",
    "Rho_mean = 8.5e-27 * 0.308 * (1+z)**3 # Средняя плотность Вселенной"
   ],
   "metadata": {
    "collapsed": false,
    "pycharm": {
     "name": "#%%\n"
    }
   }
  },
  {
   "cell_type": "code",
   "execution_count": 4,
   "outputs": [],
   "source": [
    "import matplotlib.pyplot as plt\n",
    "# Импорт функций для расчетов темной материи\n",
    "from md import *\n",
    "# Импорт функций для расчетов излучения\n",
    "from light_func import *\n",
    "%matplotlib inline\n",
    "import numpy as np\n",
    "plt.style.use(['seaborn-v0_8-notebook'])\n",
    "plt.rcParams.update({\"figure.facecolor\": (0,0,0,0),\n",
    "                     \"figure.dpi\": 90,\n",
    "                     \"animation.html\": \"jshtml\",\n",
    "                     \"animation.embed_limit\": 100})\n",
    "plt.rcParams['font.size'] = 20"
   ],
   "metadata": {
    "collapsed": false,
    "pycharm": {
     "name": "#%%\n"
    }
   }
  },
  {
   "cell_type": "code",
   "execution_count": 5,
   "outputs": [],
   "source": [
    "# Блок констант далее требуется для условия Куранта-Фридрихсона-Леви (КФЛ)\n",
    "mu = 1 # Средний молекулярный вес, это значение для водорода, если будем что-то добавлять то будет что-то другое\n",
    "a1 = 1/119  # первый коэффициент в формуле для температуры\n",
    "a2 = 1/115  # второй коэффициент в формуле для температуры\n",
    "T = 2.7 * (1+z) * (1 + a1**(-1)*(1+z)**(-1)/(1+a2**(3/2)*(1+z)**(3/2))) ** (-1)\n",
    "a = np.sqrt(k*T / (mu*m_p))   #скорость звука в м/c\n",
    "\n",
    "# Радиус остановки DM\n",
    "r_s = 6.7 * 10**22 * (M_pbh/10**9)**(1/3) * ((1+z)/18)**(-4/3) * 3.24 * 10**(-19)\n",
    "r_virial = r_s/4"
   ],
   "metadata": {
    "collapsed": false,
    "pycharm": {
     "name": "#%%\n"
    }
   }
  },
  {
   "cell_type": "code",
   "execution_count": 6,
   "outputs": [],
   "source": [
    "# Диапазон сетки\n",
    "r_min = r_virial#1 # внутренняя граница сетки в парсеках\n",
    "r_max = 10*r_s#100 # внешняя граница сетки в парсеках\n",
    "\n",
    "# Логарифмическая сетка\n",
    "r_log_min = np.log(r_min)\n",
    "r_log_max = np.log(r_max)\n",
    "length_r = 100\n",
    "r_log = np.linspace(r_log_min, r_log_max, length_r)\n",
    "r_phys = np.exp(1) ** r_log\n",
    "log_step = r_log[1]-r_log[0]"
   ],
   "metadata": {
    "collapsed": false,
    "pycharm": {
     "name": "#%%\n"
    }
   }
  },
  {
   "cell_type": "code",
   "execution_count": 7,
   "outputs": [],
   "source": [
    "\n",
    "# Задание первичного (пробного) условия КФЛ\n",
    "# Далее условие будет пересчитываться\n",
    "# Вид условия: С = ((a + |u_x|) * dt)/dx < 0.5\n",
    "# Здесь a-эффективная скорость звука, u_x-скорость газа, dt и dx шаги по времени и пространству\n",
    "# Константа в условии КФЛ\n",
    "C = 0.1\n",
    "\n",
    "# Для логарифмической сетки\n",
    "dt = C * (r_phys[1]-r_phys[0]) * pk_to_meter / a"
   ],
   "metadata": {
    "collapsed": false,
    "pycharm": {
     "name": "#%%\n"
    }
   }
  },
  {
   "cell_type": "code",
   "execution_count": 8,
   "outputs": [],
   "source": [
    "# Инициализация массивов для хранения различных переменных\n",
    "U = np.zeros((2, length_r)) # скорость газа U_0 = 0\n",
    "Rho = np.zeros((2, length_r)) # плотность газа Rho\n",
    "P = np.zeros((2, length_r)) # давление газа P\n",
    "T = np.zeros(length_r) # температура газа T\n",
    "Eps = np.zeros(length_r) # внутренняя энергия газа U\n",
    "E = np.zeros((2, length_r)) # Полная энергия\n",
    "n_H = np.zeros(length_r) # количественная плотность водорода\n",
    "Phi = np.zeros(length_r)  # гравитационный потенциал\n",
    "S_dual = np.zeros(length_r)\n",
    "V_dual = np.zeros(length_r)\n",
    "S = np.zeros(length_r)\n",
    "V_dual = np.zeros(length_r + 1)\n",
    "V = np.zeros(length_r + 1)\n",
    "S_dual = np.zeros(length_r)\n",
    "du_dr = np.zeros(length_r)\n",
    "U_half = np.zeros(length_r)"
   ],
   "metadata": {
    "collapsed": false,
    "pycharm": {
     "name": "#%%\n"
    }
   }
  },
  {
   "cell_type": "code",
   "execution_count": 9,
   "outputs": [],
   "source": [
    "# Блок далее нужен для синхронизации размеров векторов, чтобы далее не возникало ошибок связанных с их несовпадением\n",
    "r_log_temp_2 = np.append(r_log[0] - log_step, r_log)\n",
    "r_log_temp_2 = np.append(r_log_temp_2, r_log[-1] + log_step)\n",
    "r_temp_2 = np.exp(1) ** r_log_temp_2\n",
    "Phi_temp = (-G*mdmt(r_temp_2[0]/r_s)/(r_temp_2[0] * pk_to_meter) * (Rho_mean * 4*np.pi/3 * (r_s*pk_to_meter)**3)\n",
    "              -G*M_pbh*M_sun/(r_temp_2[0] * pk_to_meter))\n",
    "Phi_temp_2 = (-G*mdmt(r_temp_2[-1]/r_s)/(r_temp_2[-1] * pk_to_meter) * (Rho_mean * 4*np.pi/3 * (r_s*pk_to_meter)**3)\n",
    "              -G*M_pbh*M_sun/(r_temp_2[-1] * pk_to_meter))\n",
    "r_log_temp = np.append(r_log, r_log[-1] + log_step)\n",
    "r_temp = np.exp(1) ** r_log_temp\n",
    "r_log_temp_2 = r_log_temp - 0.5*log_step\n",
    "r_temp_3 = np.exp(1) ** r_log_temp_2"
   ],
   "metadata": {
    "collapsed": false,
    "pycharm": {
     "name": "#%%\n"
    }
   }
  },
  {
   "cell_type": "code",
   "execution_count": 10,
   "outputs": [],
   "source": [
    "# Задание обьемов и площадей\n",
    "S = 4 * np.pi * (r_temp_3[1:]+r_temp_3[:-1])**2 / 4 * pk_to_meter**2\n",
    "V = 4/3 * np.pi * (r_temp_3[1:]**3 - r_temp_3[:-1]**3) * pk_to_meter**3\n",
    "S_dual = 4 * np.pi * (r_temp[1:] + r_temp[:-1])**2 / 4 * pk_to_meter**2\n",
    "V_dual = 4/3 * np.pi * (r_temp_3[1:]**3 - r_temp_3[:-1]**3) * pk_to_meter**3"
   ],
   "metadata": {
    "collapsed": false,
    "pycharm": {
     "name": "#%%\n"
    }
   }
  },
  {
   "cell_type": "code",
   "execution_count": 11,
   "outputs": [],
   "source": [
    "# Начальные условия\n",
    "for j in range(length_r):\n",
    "    # Гравитационный потенциал\n",
    "    Phi[j] = (-G*mdmt(r_phys[j]/r_s)/(r_phys[j] * pk_to_meter) * (Rho_mean * 4*np.pi/3 * (r_s*pk_to_meter)**3)\n",
    "              -G*M_pbh*M_sun/(r_phys[j] * pk_to_meter)) # в м**2/с**2\n",
    "\n",
    "    # Температура\n",
    "    T[j] = 2.7 * (1+z) * (1 + a1**(-1)*(1+z)**(-1)/(1+a2**(3/2)*(1+z)**(3/2)))**(-1)  # в кельвинах\n",
    "\n",
    "    # Плотность барионов\n",
    "    # omega_b = 0.049\n",
    "    # omega_m = 0.308\n",
    "    # Rho[0, j] = omega_b * rrb(r_phys[j]/r_s)/omega_m    #пробная плотность в Rho_mean\n",
    "    Rho[0, j] = rrb(r_phys[j]/r_s)\n",
    "    # Так как переопределили Rho и оставили метры то нужно переопределить единицы массы\n",
    "    M_unit = Rho_mean   # Коэффициент перевода единиц массы в кг\n",
    "\n",
    "    # Концентрация водорода\n",
    "    n_H[j] = (Rho[0, j])/(m_p/M_unit)\n",
    "\n",
    "    # массовая плотность внутренней энергия\n",
    "    Eps[j] = (n_H[j] * 3/2 * k/M_unit * T[j])/(Rho[0, j])  # В Дж/M_unit\n",
    "\n",
    "    # Скорости\n",
    "    U[0, j] = 0   # В м/c\n",
    "\n",
    "    # Полная энергия\n",
    "    E[0, j] = (Rho[0, j]) * (U[0, j]**2/2 + Eps[j]) # В M_unit/м*с**2\n",
    "\n",
    "    # Уравнение состояния\n",
    "    P[0, j] = (gamma - 1) * (Rho[0, j]) * Eps[j]   # Давление в M_unit/м*с**2"
   ],
   "metadata": {
    "collapsed": false,
    "pycharm": {
     "name": "#%%\n"
    }
   }
  },
  {
   "cell_type": "code",
   "execution_count": 12,
   "outputs": [],
   "source": [
    "# Изменение размеров векторов и применение граничного условия к потенциалам\n",
    "Phi = np.append(Phi_temp, Phi)\n",
    "Phi = np.append(Phi, Phi_temp_2)\n",
    "P[0, -1] = P[0, -2]\n",
    "U[0, -1] = U[0, -2]\n",
    "\n",
    "# Искуственное увеличение плотности и температуры в центре (работает если был изменен соответствующий отладочный параметр)\n",
    "Rho[0,0] = Rho[0,0]*RRRho\n",
    "T[0] = T[0]*TT"
   ],
   "metadata": {
    "collapsed": false,
    "pycharm": {
     "name": "#%%\n"
    }
   }
  },
  {
   "cell_type": "code",
   "execution_count": 13,
   "outputs": [],
   "source": [
    "# Инициализация различных переменных для расчета\n",
    "i = 0 # Счетчик шагов по времени\n",
    "sim_time = 0 # Общее время симуляции\n",
    "dt_minimizer = 0.0009 # Множитель который будет использован при пересчете шагов по времени\n",
    "indicator_2 = False # Индикатор нужный для пересчета шага по времени\n",
    "Rho_dump_left = np.zeros(2) # Переменная для хранения плотности которая уходит к ЧД за пределы сетки\n",
    "LL = np.zeros(length_r)  # Переменная для хранения разницы членов гравитации и давления\n",
    "\n",
    "# Массивы для отрисовки\n",
    "U_draw = np.zeros((2,Rho.shape[1]))\n",
    "Rho_draw = np.zeros((2,Rho.shape[1]))\n",
    "E_draw = np.zeros((2,Rho.shape[1]))\n",
    "U_draw[1,:] = U[0, :]\n",
    "Rho_draw[1,:] = Rho[0, :]\n",
    "E_draw[1,:] = E[0, :]\n",
    "draw_time = 0"
   ],
   "metadata": {
    "collapsed": false,
    "pycharm": {
     "name": "#%%\n"
    }
   }
  },
  {
   "cell_type": "code",
   "execution_count": 14,
   "outputs": [],
   "source": [
    "# Выбор начального распределения степени ионизации и процедуры расчета излучения\n",
    "x = np.exp(-5*r_phys/r_s) # Начальное распределение степени ионизации\n",
    "x_draw = x  # Массив для отрисовки степени ионизации\n",
    "E_photon = 2000 # Энергия фотонов в эВ\n",
    "light_procedure_selector = 1   # 0 - для простой оценки, 1 - для мимнимального расчета потерь излучения из уравнения переноса"
   ],
   "metadata": {
    "collapsed": false,
    "pycharm": {
     "name": "#%%\n"
    }
   }
  },
  {
   "cell_type": "code",
   "execution_count": 15,
   "outputs": [
    {
     "name": "stdout",
     "output_type": "stream",
     "text": [
      "Номер шага  10000\n",
      "Прошло  21865.68128482386 лет\n",
      "Номер шага  20000\n",
      "Прошло  43731.36256963522 лет\n",
      "Номер шага  30000\n",
      "Прошло  65597.04385444657 лет\n",
      "Номер шага  40000\n",
      "Прошло  87462.72513932081 лет\n",
      "Номер шага  50000\n",
      "Прошло  109328.40642420953 лет\n",
      "Номер шага  60000\n",
      "Прошло  131194.08770909827 лет\n",
      "Номер шага  70000\n",
      "Прошло  153059.76899389015 лет\n",
      "Номер шага  80000\n",
      "Прошло  174925.4502786241 лет\n"
     ]
    },
    {
     "ename": "KeyboardInterrupt",
     "evalue": "",
     "output_type": "error",
     "traceback": [
      "\u001B[1;31m---------------------------------------------------------------------------\u001B[0m",
      "\u001B[1;31mKeyboardInterrupt\u001B[0m                         Traceback (most recent call last)",
      "Cell \u001B[1;32mIn[15], line 45\u001B[0m\n\u001B[0;32m     43\u001B[0m \u001B[38;5;66;03m# U[1,:] = np.sign(U_half) * np.abs(np.abs(U[0,:]) - dt * U_half ** 2 * S_dual) / (V_dual)\u001B[39;00m\n\u001B[0;32m     44\u001B[0m U[\u001B[38;5;241m1\u001B[39m,:\u001B[38;5;241m-\u001B[39m\u001B[38;5;241m1\u001B[39m] \u001B[38;5;241m=\u001B[39m  U[\u001B[38;5;241m1\u001B[39m,:\u001B[38;5;241m-\u001B[39m\u001B[38;5;241m1\u001B[39m] \u001B[38;5;241m+\u001B[39m np\u001B[38;5;241m.\u001B[39msign(U_half[\u001B[38;5;241m1\u001B[39m:])\u001B[38;5;241m*\u001B[39m( dt \u001B[38;5;241m*\u001B[39m U_half[\u001B[38;5;241m1\u001B[39m:]\u001B[38;5;241m*\u001B[39m\u001B[38;5;241m*\u001B[39m\u001B[38;5;241m2\u001B[39m \u001B[38;5;241m*\u001B[39m S_dual[\u001B[38;5;241m1\u001B[39m:]) \u001B[38;5;241m/\u001B[39m (V_dual[\u001B[38;5;241m1\u001B[39m:]) \u001B[38;5;241m*\u001B[39m np\u001B[38;5;241m.\u001B[39mwhere(U_half[\u001B[38;5;241m1\u001B[39m:]\u001B[38;5;241m<\u001B[39m\u001B[38;5;241m0\u001B[39m, \u001B[38;5;241m1\u001B[39m, \u001B[38;5;241m0\u001B[39m)\n\u001B[1;32m---> 45\u001B[0m U[\u001B[38;5;241m1\u001B[39m,\u001B[38;5;241m1\u001B[39m:] \u001B[38;5;241m=\u001B[39m U[\u001B[38;5;241m1\u001B[39m,\u001B[38;5;241m1\u001B[39m:] \u001B[38;5;241m+\u001B[39m \u001B[43mnp\u001B[49m\u001B[38;5;241;43m.\u001B[39;49m\u001B[43msign\u001B[49m\u001B[43m(\u001B[49m\u001B[43mU_half\u001B[49m\u001B[43m[\u001B[49m\u001B[43m:\u001B[49m\u001B[38;5;241;43m-\u001B[39;49m\u001B[38;5;241;43m1\u001B[39;49m\u001B[43m]\u001B[49m\u001B[43m)\u001B[49m\u001B[38;5;241m*\u001B[39m( dt \u001B[38;5;241m*\u001B[39m U_half[:\u001B[38;5;241m-\u001B[39m\u001B[38;5;241m1\u001B[39m]\u001B[38;5;241m*\u001B[39m\u001B[38;5;241m*\u001B[39m\u001B[38;5;241m2\u001B[39m \u001B[38;5;241m*\u001B[39m S_dual[:\u001B[38;5;241m-\u001B[39m\u001B[38;5;241m1\u001B[39m]) \u001B[38;5;241m/\u001B[39m (V_dual[:\u001B[38;5;241m-\u001B[39m\u001B[38;5;241m1\u001B[39m]) \u001B[38;5;241m*\u001B[39m np\u001B[38;5;241m.\u001B[39mwhere(U_half[:\u001B[38;5;241m-\u001B[39m\u001B[38;5;241m1\u001B[39m]\u001B[38;5;241m>\u001B[39m\u001B[38;5;241m0\u001B[39m, \u001B[38;5;241m1\u001B[39m, \u001B[38;5;241m0\u001B[39m)\n\u001B[0;32m     46\u001B[0m U[\u001B[38;5;241m1\u001B[39m,\u001B[38;5;241m-\u001B[39m\u001B[38;5;241m1\u001B[39m] \u001B[38;5;241m=\u001B[39m U[\u001B[38;5;241m1\u001B[39m,\u001B[38;5;241m-\u001B[39m\u001B[38;5;241m2\u001B[39m]\n\u001B[0;32m     48\u001B[0m \u001B[38;5;66;03m# Вычисление плотности\u001B[39;00m\n",
      "\u001B[1;31mKeyboardInterrupt\u001B[0m: "
     ]
    }
   ],
   "source": [
    "# Расчет решения уравнений Эйлера с излучением\n",
    "while (sim_time < t_end_seconds):\n",
    "    if (i == 0):\n",
    "        i = 1\n",
    "\n",
    "    # Лагранжев шаг\n",
    "\n",
    "    # Вычисление скорости на полшага вперед по времени\n",
    "    dP_dx = (P[0,1:] - P[0,:-1]) / log_step\n",
    "    dPhi_dx = (Phi[1:] - Phi[:-1]) / log_step\n",
    "\n",
    "    if light_procedure_selector == 1:\n",
    "        H, Pressure_euler_coupling, Energy_euler_coupling = eddington_light(n_H, x, E_photon, M_pbh, r_phys, M_unit)\n",
    "        LL[:-1] = (- PP * (0.5*dt * dP_dx/(r_phys[:-1] * pk_to_meter)) / (Rho[0,:-1])\n",
    "                                - (0.5*dt * dPhi_dx[1:-1]/(r_phys[:-1] * pk_to_meter))\n",
    "                                - 0.5*dt*Pressure_euler_coupling/(Rho[0,:-1]))\n",
    "    elif light_procedure_selector == 0:\n",
    "        H, Pressure_euler_coupling, Energy_euler_coupling = easy_eddington_light(x, r_phys)\n",
    "        LL[:-1] = (- PP * (0.5*dt * dP_dx/(r_phys[:-1] * pk_to_meter)) / (Rho[0,:-1])\n",
    "                                - (0.5*dt * dPhi_dx[1:-1]/(r_phys[:-1] * pk_to_meter))\n",
    "                                - 0.5*dt*Pressure_euler_coupling/Rho[0,:-1])\n",
    "\n",
    "    U_half[:-1] = U[0,:-1] + LL[:-1]\n",
    "    U_half[-1] = U_half[-2]\n",
    "\n",
    "    # Вычисление производной скорости по времени\n",
    "    du_dx = (U_half[1:] - U_half[:-1]) / log_step\n",
    "    du_dr[:-1] = du_dx / (r_phys[:-1] * pk_to_meter)\n",
    "    du_dr[-1] = du_dr[-2]\n",
    "\n",
    "    # Промежуточная полная энергия\n",
    "    if light_procedure_selector == 1:\n",
    "        Energy_euler_coupling = np.append(Energy_euler_coupling, 0)\n",
    "\n",
    "    E_inter = (E[0,:] - PP * P[0,:]*du_dr*0.5*dt - Rho[0,:] * U_half[:] * dPhi_dx[:-1]/(r_phys * pk_to_meter) * 0.5*dt\n",
    "                        -0.5*dt*Energy_euler_coupling/(log_step*r_phys*pk_to_meter))\n",
    "\n",
    "    # Шаг адвекции\n",
    "    # В зависимости от направления скорости переносим параметры (плотность, энергию) из одной ячейки в другую\n",
    "\n",
    "    # Вычисление скорости\n",
    "    U[1,:] = U[0,:] - np.sign(U_half) * (dt * U_half ** 2 * S_dual) / V_dual\n",
    "    # U[1,:] = np.sign(U_half) * np.abs(np.abs(U[0,:]) - dt * U_half ** 2 * S_dual) / (V_dual)\n",
    "    U[1,:-1] =  U[1,:-1] + np.sign(U_half[1:])*( dt * U_half[1:]**2 * S_dual[1:]) / (V_dual[1:]) * np.where(U_half[1:]<0, 1, 0)\n",
    "    U[1,1:] = U[1,1:] + np.sign(U_half[:-1])*( dt * U_half[:-1]**2 * S_dual[:-1]) / (V_dual[:-1]) * np.where(U_half[:-1]>0, 1, 0)\n",
    "    U[1,-1] = U[1,-2]\n",
    "\n",
    "    # Вычисление плотности\n",
    "    Rho[1,1:] = Rho[0,1:] - np.abs((dt * Rho[0,1:] * U_half[1:] * S[1:]) / V[1:])\n",
    "    # Следующую строчку нужно использовать чтобы вещество вылетало к центру. Ту что далее тогда нужно закомментировать\n",
    "    Rho[1,0] = Rho[0,0] - np.abs((dt * Rho[0,0] * U_half[0] * S[0]) / V[0])\n",
    "    # Следующую строчку нужно использовать если нужно накапливать плотность крайней точке. Ту что до этого тогда нужно закомментировать\n",
    "    # Rho[1,0] = Rho[0,0] - np.abs((dt * Rho[0,0] * U_half[0] * S[0]) / V[0])*(U_half[0]>0)\n",
    "    Rho_dump_left[1] = Rho_dump_left[0] + np.abs((dt * Rho[0,0] * U_half[0] * S[0]) / V[0]) * (U_half[0]<0)\n",
    "    Rho[1,:-1] = Rho[1,:-1] + np.abs((dt * Rho[0,1:] * U_half[1:] * S[1:]) / V[1:]) * np.where(U_half[1:]<0, 1, 0)\n",
    "    Rho[1,1:] = Rho[1,1:] + np.abs((dt * Rho[0,:-1] * U_half[:-1] * S[:-1]) / V[:-1]) * np.where(U_half[:-1]>0, 1, 0)\n",
    "\n",
    "    # Вычисление полной энергии\n",
    "    E[1,:] = E[0,:] - dt * E_inter * U_half * S / V\n",
    "    # E[1,:] = np.abs(E[0,:]) - np.abs((dt * E_inter * U_half * S) / V)\n",
    "    E[1,:-1] = E[1,:-1] + ((dt * E_inter[1:] * U_half[1:] * S[1:]) / V[1:]) * np.where(U_half[1:]<0, 1, 0)\n",
    "    E[1,1:] = E[1,1:] + ((dt * E_inter[:-1] * U_half[:-1] * S[:-1]) / V[:-1]) * np.where(U_half[:-1]>0, 1, 0)\n",
    "\n",
    "    # print('Rho',Rho[1,:])\n",
    "    # print('E',E[1,:])\n",
    "    # Расчет внутренней энергии\n",
    "    # m = Rho[1,:] * V\n",
    "    Eps = (E[1,:]/Rho[1,:] - U[1,:]**2/2) #- m*Phi[:-2]\n",
    "    n_H = Rho[1,:]/(m_p/M_unit)\n",
    "    T = Rho[1,:]*Eps/(n_H*3/2*k/M_unit)\n",
    "\n",
    "    # Условный оператор для остановки расчета при получении некорректных значений\n",
    "    if np.any(np.isnan(Rho[1,:])):\n",
    "        print(U_half)\n",
    "        break\n",
    "\n",
    "    # Обновление шага по времени, чтобы он отвечал условию КФЛ\n",
    "    # Если пересчитываем шаг по времени нужно перезапустить этот шаг сначала (делаем Indicator = False)\n",
    "    # Если условие КФЛ продолжает выполняться то делаем Indicator = True\n",
    "    # Если индикатор со значением True выживет до конца шага цикла, то мы должны перейти на следующий временной слой\n",
    "    if i==1:\n",
    "        dt_new = (C * ((r_phys[1:]-r_phys[:-1]) * pk_to_meter) / (a + (np.abs(U[1,1:])))).min()\n",
    "    else:\n",
    "        dt_new = 0.1*((C * ((r_phys[1:]-r_phys[:-1]) * pk_to_meter) / (a + (np.abs(U[1,1:])))).min())\n",
    "\n",
    "    if (dt_new < dt):\n",
    "        # print(dt, '$$', i)\n",
    "        dt = dt_new\n",
    "        indicator = False\n",
    "        indicator_2 = True\n",
    "        # print(dt, '&&', i)\n",
    "        # print('U_max',U.max())\n",
    "        continue\n",
    "\n",
    "    elif (dt_new >= dt):\n",
    "        indicator = True\n",
    "        # Следующий условный оператор нужен чтобы увеличить шаг по времени после пересчета первого шага\n",
    "        # Это нужно так как при первом пересчете шаг по времени получается излишне маленьким\n",
    "        if indicator_2 == True and i == 1:\n",
    "            dt = dt_new * dt_minimizer\n",
    "            # print('aaa', dt)\n",
    "            indicator_2 = False\n",
    "            continue\n",
    "\n",
    "\n",
    "    # Обновление давления\n",
    "    P[1,:] =  (gamma - 1) * (Rho[1,:]) * M_unit * 3/2 * k/M_unit * T / m_p\n",
    "\n",
    "    # Обновление степени ионизации\n",
    "    x = ioniz_frac(dt, x, n_H, E_photon, T, H)\n",
    "\n",
    "    # Пересчет гравитационного потенциала (аккреция)\n",
    "    # M_pbh_accreted = (V[1] * Rho_mean * np.abs((dt * Rho[0,1] * U_half[1] * S[1]) / V[1]) * (U_half[1]<0))/M_sun\n",
    "    # M_pbh += M_pbh_accreted\n",
    "    # Phi[:-1] -= -G * M_pbh_accreted * M_sun/(r_temp * pk_to_meter)\n",
    "\n",
    "    # Если индикатор равен True, то идем на следующий временной слой, если равен False, то повторяем текущий\n",
    "    # Записываем в массив все значения шага по времени которые не вызвали пересчет слоя\n",
    "    if (indicator == True):\n",
    "        # Увеличиваем время симуляции\n",
    "        sim_time += dt\n",
    "\n",
    "        # Сохраняем значения массивов через draw_step для последующей отрисовки\n",
    "        if (i%draw_step == 0):\n",
    "            U_draw = np.vstack([U_draw, U[1,:]])\n",
    "            Rho_draw = np.vstack([Rho_draw, Rho[1,:]])\n",
    "            E_draw = np.vstack([E_draw, E[1,:]])\n",
    "            x_draw = np.vstack([x_draw, x])\n",
    "            draw_time = np.append(draw_time, sim_time)\n",
    "            # Далее идет 3 отладочных блока для вывода различных параметров\n",
    "            # print('Rho_draw[0] =', Rho_draw[Rho_draw.shape[0]-1,0])\n",
    "            # print('Rho_draw[1] =', Rho_draw[Rho_draw.shape[0]-1,1])\n",
    "            # print('Rho_draw[2] =', Rho_draw[Rho_draw.shape[0]-1,2])\n",
    "            # print('Rho_draw[3] =', Rho_draw[Rho_draw.shape[0]-1,3])\n",
    "            # print('Rho_draw[4] =', Rho_draw[Rho_draw.shape[0]-1,4])\n",
    "\n",
    "            # print('U_half[0] =', U_half[0])\n",
    "            # print('U_half[1] =', U_half[1])\n",
    "            # print('U_half[2] =', U_half[2])\n",
    "            # print('U_half[3] =', U_half[3])\n",
    "            # print('U_half[4] =', U_half[4])\n",
    "\n",
    "            # print('U_draw[0] =', U_draw[U_draw.shape[0]-1,0])\n",
    "            # print('U_draw[1] =', U_draw[U_draw.shape[0]-1,1])\n",
    "            # print('U_draw[2] =', U_draw[U_draw.shape[0]-1,2])\n",
    "            # print('U_draw[3] =', U_draw[U_draw.shape[0]-1,3])\n",
    "            # print('U_draw[4] =', U_draw[U_draw.shape[0]-1,4])\n",
    "\n",
    "            print('Номер шага ', i)\n",
    "            print('Прошло ', sim_time * 3.169e-8, 'лет')\n",
    "\n",
    "        # Присвоение новых значений массивам\n",
    "        U[0,:] = U[1,:]\n",
    "        Rho[0,:] = Rho[1,:]\n",
    "        E[0,:] = E[1,:]\n",
    "        P[0,:] = P[1,:]\n",
    "\n",
    "        Rho_dump_left[0] = Rho_dump_left[1]\n",
    "\n",
    "        U[1,:] = 0\n",
    "        Rho[1, :] = 0\n",
    "        E[1, :] = 0\n",
    "        P[1, :] = 0\n",
    "        i = i + 1\n",
    "\n",
    "print('Общее время симуляции равно', sim_time * 3.169e-8, 'лет')"
   ],
   "metadata": {
    "collapsed": false,
    "pycharm": {
     "name": "#%%\n"
    }
   }
  },
  {
   "cell_type": "code",
   "execution_count": 16,
   "outputs": [
    {
     "data": {
      "text/plain": "<Figure size 720x495 with 1 Axes>",
      "image/png": "[encoded data removed]"
     },
     "metadata": {
      "needs_background": "light"
     },
     "output_type": "display_data"
    }
   ],
   "source": [
    "# Отрисовка плотности\n",
    "import matplotlib.pyplot as plt\n",
    "Font = 16\n",
    "\n",
    "#Задаем начальное значение и шаг по времени для отрисовки графиков\n",
    "draw_time_zero = 1\n",
    "draw_time_step = 1\n",
    "\n",
    "fig, ax = plt.subplots()\n",
    "\n",
    "for t in range(draw_time_zero, Rho_draw.shape[0]-1, draw_time_step):\n",
    "    ax.plot(r_phys[:]*1e-3, Rho_draw[t, :], label=f\"t = {int(draw_time[t] * 3.169e-8 * 1e-3)} тыс.лет\")\n",
    "ax.legend(fontsize = Font)\n",
    "ax.set_xlabel(r\"r, кпк\",fontsize = Font)\n",
    "ax.set_ylabel(r\"$\\rho,$ $\\bar\\rho$\",fontsize = Font)\n",
    "\n",
    "ax.set_xscale('log')\n",
    "# ax.set_yscale('log')\n",
    "# ax.set_ylim(-1, 0.5)\n",
    "# ax.set_xlim(0,9)\n",
    "\n",
    "#Добавляем вертикальные линии в точках r_virial и r_s\n",
    "plt.vlines(x=[r_virial*1e-3, r_s*1e-3], ymin=0.1, ymax=Rho_draw.max(), colors=['red', 'blue'], linestyles='dashed')\n",
    "\n",
    "plt.text(x=r_virial*1e-3+0.0001, y=0.1, s=r\"$r_{virial}$\", color='red', rotation=90)\n",
    "plt.text(x=r_s*1e-3+0.001, y=0.1, s=r\"$r_{stop}$\", color='blue', rotation=90)\n",
    "\n",
    "plt.show()\n",
    "# plt.savefig('Rho_1.eps')"
   ],
   "metadata": {
    "collapsed": false,
    "pycharm": {
     "name": "#%%\n"
    }
   }
  },
  {
   "cell_type": "code",
   "execution_count": 17,
   "outputs": [
    {
     "data": {
      "text/plain": "<Figure size 720x495 with 1 Axes>",
      "image/png": "[encoded data removed]"
     },
     "metadata": {
      "needs_background": "light"
     },
     "output_type": "display_data"
    }
   ],
   "source": [
    "# Отрисовка степени ионизации\n",
    "import matplotlib.pyplot as plt\n",
    "Font = 16\n",
    "\n",
    "#Задаем начальное значение и шаг по времени для отрисовки графиков\n",
    "draw_time_zero = 0\n",
    "draw_time_step = 1\n",
    "\n",
    "fig, ax = plt.subplots()\n",
    "\n",
    "for t in range(draw_time_zero, x_draw.shape[0], draw_time_step):\n",
    "    ax.plot(r_phys[:]*1e-3, x_draw[t, :], label=f\"t = {int(draw_time[t] * 3.169e-8 * 1e-3)} тыс.лет\")\n",
    "ax.legend(fontsize = Font)\n",
    "ax.set_xlabel(r\"r, кпк\",fontsize = Font)\n",
    "ax.set_ylabel(r\"x\",fontsize = Font)\n",
    "\n",
    "ax.set_xscale('log')\n",
    "# ax.set_yscale('log')\n",
    "ax.set_ylim(-0.2, 1)\n",
    "# ax.set_xlim(0,9)\n",
    "\n",
    "#Добавляем вертикальные линии в точках r_virial и r_s\n",
    "plt.vlines(x=[r_virial*1e-3, r_s*1e-3], ymin=0.1, ymax=Rho_draw.max(), colors=['red', 'blue'], linestyles='dashed')\n",
    "\n",
    "plt.text(x=r_virial*1e-3+0.0001, y=0.1, s=r\"$r_{virial}$\", color='red', rotation=90)\n",
    "plt.text(x=r_s*1e-3+0.001, y=0.1, s=r\"$r_{stop}$\", color='blue', rotation=90)\n",
    "\n",
    "plt.show()\n",
    "# plt.savefig('Rho_1.eps')"
   ],
   "metadata": {
    "collapsed": false,
    "pycharm": {
     "name": "#%%\n"
    }
   }
  },
  {
   "cell_type": "markdown",
   "source": [],
   "metadata": {
    "collapsed": false,
    "pycharm": {
     "name": "#%% md\n"
    }
   }
  },
  {
   "cell_type": "code",
   "execution_count": null,
   "outputs": [],
   "source": [
    "# Отрисовка скорости\n",
    "import matplotlib.pyplot as plt\n",
    "\n",
    "#Задаем начальное значение и шаг по времени для отрисовки графиков\n",
    "draw_time_zero = 0\n",
    "draw_time_step = 1\n",
    "\n",
    "# создаем фигуру и оси\n",
    "fig, ax = plt.subplots()\n",
    "\n",
    "# перебираем значения draw_time от 0 до length_t-1 с шагом draw_time_step\n",
    "for t in range(draw_time_zero, U_draw.shape[0], draw_time_step):\n",
    "    # рисуем график значений Rho[t, :] и r[:] с подписью t\n",
    "    ax.plot(r_phys, U_draw[t, :], label=f\"t = {draw_time[t] * 3.169e-8}\")\n",
    "\n",
    "# добавляем легенду\n",
    "ax.legend()\n",
    "# ax.set_ylim(2500, 3500)\n",
    "# ax.set_xlim(10,12)\n",
    "\n",
    "# показываем фигуру\n",
    "plt.show()"
   ],
   "metadata": {
    "collapsed": false,
    "pycharm": {
     "name": "#%%\n"
    }
   }
  }
 ],
 "metadata": {
  "kernelspec": {
   "display_name": "Python 3",
   "language": "python",
   "name": "python3"
  },
  "language_info": {
   "codemirror_mode": {
    "name": "ipython",
    "version": 2
   },
   "file_extension": ".py",
   "mimetype": "text/x-python",
   "name": "python",
   "nbconvert_exporter": "python",
   "pygments_lexer": "ipython2",
   "version": "2.7.6"
  }
 },
 "nbformat": 4,
 "nbformat_minor": 0
}